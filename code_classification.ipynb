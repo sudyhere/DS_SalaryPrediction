{
 "cells": [
  {
   "cell_type": "code",
   "execution_count": 79,
   "id": "aa32686c",
   "metadata": {
    "execution": {
     "iopub.execute_input": "2023-06-09T19:12:02.979272Z",
     "iopub.status.busy": "2023-06-09T19:12:02.978879Z",
     "iopub.status.idle": "2023-06-09T19:12:04.227683Z",
     "shell.execute_reply": "2023-06-09T19:12:04.226515Z"
    },
    "papermill": {
     "duration": 1.261155,
     "end_time": "2023-06-09T19:12:04.230357",
     "exception": false,
     "start_time": "2023-06-09T19:12:02.969202",
     "status": "completed"
    },
    "tags": []
   },
   "outputs": [],
   "source": [
    "import numpy as np\n",
    "import pandas as pd\n",
    "import matplotlib.pyplot as plt\n",
    "%matplotlib inline \n",
    "import seaborn as  sns\n",
    "import warnings\n",
    "warnings.filterwarnings('ignore')\n",
    "from sklearn.model_selection import train_test_split\n",
    "from sklearn.linear_model import LinearRegression\n",
    "from sklearn.ensemble import RandomForestRegressor\n",
    "from sklearn.metrics import mean_squared_error"
   ]
  },
  {
   "cell_type": "code",
   "execution_count": 80,
   "id": "9f446221",
   "metadata": {
    "execution": {
     "iopub.execute_input": "2023-06-09T19:12:04.248898Z",
     "iopub.status.busy": "2023-06-09T19:12:04.248525Z",
     "iopub.status.idle": "2023-06-09T19:12:04.277462Z",
     "shell.execute_reply": "2023-06-09T19:12:04.276681Z"
    },
    "papermill": {
     "duration": 0.040895,
     "end_time": "2023-06-09T19:12:04.279791",
     "exception": false,
     "start_time": "2023-06-09T19:12:04.238896",
     "status": "completed"
    },
    "tags": []
   },
   "outputs": [],
   "source": [
    "df = pd.read_csv('ds_salaries.csv')"
   ]
  },
  {
   "cell_type": "code",
   "execution_count": 81,
   "id": "e5dc9c4c",
   "metadata": {
    "execution": {
     "iopub.execute_input": "2023-06-09T19:12:04.298345Z",
     "iopub.status.busy": "2023-06-09T19:12:04.297535Z",
     "iopub.status.idle": "2023-06-09T19:12:04.327555Z",
     "shell.execute_reply": "2023-06-09T19:12:04.326511Z"
    },
    "papermill": {
     "duration": 0.041589,
     "end_time": "2023-06-09T19:12:04.329744",
     "exception": false,
     "start_time": "2023-06-09T19:12:04.288155",
     "status": "completed"
    },
    "tags": []
   },
   "outputs": [
    {
     "data": {
      "text/html": [
       "<div>\n",
       "<style scoped>\n",
       "    .dataframe tbody tr th:only-of-type {\n",
       "        vertical-align: middle;\n",
       "    }\n",
       "\n",
       "    .dataframe tbody tr th {\n",
       "        vertical-align: top;\n",
       "    }\n",
       "\n",
       "    .dataframe thead th {\n",
       "        text-align: right;\n",
       "    }\n",
       "</style>\n",
       "<table border=\"1\" class=\"dataframe\">\n",
       "  <thead>\n",
       "    <tr style=\"text-align: right;\">\n",
       "      <th></th>\n",
       "      <th>work_year</th>\n",
       "      <th>experience_level</th>\n",
       "      <th>employment_type</th>\n",
       "      <th>job_title</th>\n",
       "      <th>salary</th>\n",
       "      <th>salary_currency</th>\n",
       "      <th>salary_in_usd</th>\n",
       "      <th>employee_residence</th>\n",
       "      <th>remote_ratio</th>\n",
       "      <th>company_location</th>\n",
       "      <th>company_size</th>\n",
       "    </tr>\n",
       "  </thead>\n",
       "  <tbody>\n",
       "    <tr>\n",
       "      <th>0</th>\n",
       "      <td>2023</td>\n",
       "      <td>SE</td>\n",
       "      <td>FT</td>\n",
       "      <td>Principal Data Scientist</td>\n",
       "      <td>80000</td>\n",
       "      <td>EUR</td>\n",
       "      <td>85847</td>\n",
       "      <td>ES</td>\n",
       "      <td>100</td>\n",
       "      <td>ES</td>\n",
       "      <td>L</td>\n",
       "    </tr>\n",
       "    <tr>\n",
       "      <th>1</th>\n",
       "      <td>2023</td>\n",
       "      <td>MI</td>\n",
       "      <td>CT</td>\n",
       "      <td>ML Engineer</td>\n",
       "      <td>30000</td>\n",
       "      <td>USD</td>\n",
       "      <td>30000</td>\n",
       "      <td>US</td>\n",
       "      <td>100</td>\n",
       "      <td>US</td>\n",
       "      <td>S</td>\n",
       "    </tr>\n",
       "    <tr>\n",
       "      <th>2</th>\n",
       "      <td>2023</td>\n",
       "      <td>MI</td>\n",
       "      <td>CT</td>\n",
       "      <td>ML Engineer</td>\n",
       "      <td>25500</td>\n",
       "      <td>USD</td>\n",
       "      <td>25500</td>\n",
       "      <td>US</td>\n",
       "      <td>100</td>\n",
       "      <td>US</td>\n",
       "      <td>S</td>\n",
       "    </tr>\n",
       "    <tr>\n",
       "      <th>3</th>\n",
       "      <td>2023</td>\n",
       "      <td>SE</td>\n",
       "      <td>FT</td>\n",
       "      <td>Data Scientist</td>\n",
       "      <td>175000</td>\n",
       "      <td>USD</td>\n",
       "      <td>175000</td>\n",
       "      <td>CA</td>\n",
       "      <td>100</td>\n",
       "      <td>CA</td>\n",
       "      <td>M</td>\n",
       "    </tr>\n",
       "    <tr>\n",
       "      <th>4</th>\n",
       "      <td>2023</td>\n",
       "      <td>SE</td>\n",
       "      <td>FT</td>\n",
       "      <td>Data Scientist</td>\n",
       "      <td>120000</td>\n",
       "      <td>USD</td>\n",
       "      <td>120000</td>\n",
       "      <td>CA</td>\n",
       "      <td>100</td>\n",
       "      <td>CA</td>\n",
       "      <td>M</td>\n",
       "    </tr>\n",
       "  </tbody>\n",
       "</table>\n",
       "</div>"
      ],
      "text/plain": [
       "   work_year experience_level employment_type                 job_title  \\\n",
       "0       2023               SE              FT  Principal Data Scientist   \n",
       "1       2023               MI              CT               ML Engineer   \n",
       "2       2023               MI              CT               ML Engineer   \n",
       "3       2023               SE              FT            Data Scientist   \n",
       "4       2023               SE              FT            Data Scientist   \n",
       "\n",
       "   salary salary_currency  salary_in_usd employee_residence  remote_ratio  \\\n",
       "0   80000             EUR          85847                 ES           100   \n",
       "1   30000             USD          30000                 US           100   \n",
       "2   25500             USD          25500                 US           100   \n",
       "3  175000             USD         175000                 CA           100   \n",
       "4  120000             USD         120000                 CA           100   \n",
       "\n",
       "  company_location company_size  \n",
       "0               ES            L  \n",
       "1               US            S  \n",
       "2               US            S  \n",
       "3               CA            M  \n",
       "4               CA            M  "
      ]
     },
     "execution_count": 81,
     "metadata": {},
     "output_type": "execute_result"
    }
   ],
   "source": [
    "df.head()"
   ]
  },
  {
   "cell_type": "code",
   "execution_count": 82,
   "id": "da828aa9",
   "metadata": {
    "execution": {
     "iopub.execute_input": "2023-06-09T19:12:04.349181Z",
     "iopub.status.busy": "2023-06-09T19:12:04.348762Z",
     "iopub.status.idle": "2023-06-09T19:12:04.363274Z",
     "shell.execute_reply": "2023-06-09T19:12:04.361850Z"
    },
    "papermill": {
     "duration": 0.026536,
     "end_time": "2023-06-09T19:12:04.365205",
     "exception": false,
     "start_time": "2023-06-09T19:12:04.338669",
     "status": "completed"
    },
    "tags": []
   },
   "outputs": [
    {
     "name": "stdout",
     "output_type": "stream",
     "text": [
      "Unique Values:\n",
      "work_year = 4\n",
      "experience_level = 4\n",
      "employment_type = 4\n",
      "job_title = 93\n",
      "salary = 815\n",
      "salary_currency = 20\n",
      "salary_in_usd = 1035\n",
      "employee_residence = 78\n",
      "remote_ratio = 3\n",
      "company_location = 72\n",
      "company_size = 3\n"
     ]
    }
   ],
   "source": [
    "#Finding the unique values of all the variables\n",
    "print('Unique Values:')\n",
    "columns = list(df.columns)\n",
    "for col in columns:\n",
    "    u = df[col].nunique()\n",
    "    print(f'{col} = {u}')"
   ]
  },
  {
   "attachments": {},
   "cell_type": "markdown",
   "id": "2e9e0401",
   "metadata": {
    "papermill": {
     "duration": 0.008354,
     "end_time": "2023-06-09T19:12:04.382190",
     "exception": false,
     "start_time": "2023-06-09T19:12:04.373836",
     "status": "completed"
    },
    "tags": []
   },
   "source": [
    "Based on the unique values, we can conclude the following:\n",
    "- There are 4 types of employement along with work_year and experience_level.\n",
    "- There are 93 different types of job profiles in data science.\n",
    "- Company size can be L - \"Large\", M - \"Medium\" and S - \"small.\"\n",
    "- There are 3 types of working culture, which can be remote, hybrid, in-office.\n"
   ]
  },
  {
   "cell_type": "code",
   "execution_count": 83,
   "id": "dca11c8b",
   "metadata": {
    "execution": {
     "iopub.execute_input": "2023-06-09T19:12:04.401307Z",
     "iopub.status.busy": "2023-06-09T19:12:04.400877Z",
     "iopub.status.idle": "2023-06-09T19:12:04.413390Z",
     "shell.execute_reply": "2023-06-09T19:12:04.412276Z"
    },
    "papermill": {
     "duration": 0.024791,
     "end_time": "2023-06-09T19:12:04.415488",
     "exception": false,
     "start_time": "2023-06-09T19:12:04.390697",
     "status": "completed"
    },
    "tags": []
   },
   "outputs": [
    {
     "name": "stdout",
     "output_type": "stream",
     "text": [
      "experience_level = ['SE' 'MI' 'EN' 'EX']\n",
      "employment_type = ['FT' 'CT' 'FL' 'PT']\n",
      "remote_ratio = [100   0  50]\n"
     ]
    }
   ],
   "source": [
    "#finding different unique values in columns\n",
    "column = df[['experience_level', 'employment_type', 'remote_ratio']]\n",
    "for col in column:\n",
    "    Unique = df[col].unique()\n",
    "    print(f'{col} = {Unique}')"
   ]
  },
  {
   "cell_type": "code",
   "execution_count": 84,
   "id": "d7fcc575",
   "metadata": {
    "execution": {
     "iopub.execute_input": "2023-06-09T19:12:04.435081Z",
     "iopub.status.busy": "2023-06-09T19:12:04.433957Z",
     "iopub.status.idle": "2023-06-09T19:12:04.446319Z",
     "shell.execute_reply": "2023-06-09T19:12:04.445328Z"
    },
    "papermill": {
     "duration": 0.024443,
     "end_time": "2023-06-09T19:12:04.448662",
     "exception": false,
     "start_time": "2023-06-09T19:12:04.424219",
     "status": "completed"
    },
    "tags": []
   },
   "outputs": [],
   "source": [
    "# replacing abbreviations with relevant and more clear name\n",
    "df['experience_level'] = df['experience_level'].replace(['EN', 'MI', 'SE', 'EX'],['Entry-Level', 'Mid-Level', 'Senior-Level', 'Executive-Level'])\n",
    "df['employment_type'] = df['employment_type'].replace(['PT', 'FT', 'FL', 'CT'], \n",
    "                                                      ['Part-Time', 'Full-Time', 'Freelance', 'Contract'])\n",
    "df['remote_ratio'] = df['remote_ratio'].replace([100, 0, 50], ['remote', 'on-site', 'hybrid'])\n",
    "\n",
    "df['company_size'] = df['company_size'].replace([\"L\", \"M\", \"S\"], ['Large', 'Medium', 'Small'])"
   ]
  },
  {
   "cell_type": "code",
   "execution_count": 85,
   "id": "9facb7e2",
   "metadata": {
    "execution": {
     "iopub.execute_input": "2023-06-09T19:12:04.467519Z",
     "iopub.status.busy": "2023-06-09T19:12:04.467137Z",
     "iopub.status.idle": "2023-06-09T19:12:04.473636Z",
     "shell.execute_reply": "2023-06-09T19:12:04.472863Z"
    },
    "papermill": {
     "duration": 0.018278,
     "end_time": "2023-06-09T19:12:04.475634",
     "exception": false,
     "start_time": "2023-06-09T19:12:04.457356",
     "status": "completed"
    },
    "tags": []
   },
   "outputs": [
    {
     "data": {
      "text/plain": [
       "(3755, 11)"
      ]
     },
     "execution_count": 85,
     "metadata": {},
     "output_type": "execute_result"
    }
   ],
   "source": [
    "df.shape"
   ]
  },
  {
   "cell_type": "code",
   "execution_count": 86,
   "id": "237e2e17",
   "metadata": {},
   "outputs": [
    {
     "data": {
      "text/plain": [
       "array(['Large', 'Small', 'Medium'], dtype=object)"
      ]
     },
     "execution_count": 86,
     "metadata": {},
     "output_type": "execute_result"
    }
   ],
   "source": [
    "df[\"company_size\"].unique()"
   ]
  },
  {
   "cell_type": "code",
   "execution_count": 87,
   "id": "48017aa7",
   "metadata": {
    "execution": {
     "iopub.execute_input": "2023-06-09T19:12:04.494762Z",
     "iopub.status.busy": "2023-06-09T19:12:04.494091Z",
     "iopub.status.idle": "2023-06-09T19:12:04.517899Z",
     "shell.execute_reply": "2023-06-09T19:12:04.516881Z"
    },
    "papermill": {
     "duration": 0.035643,
     "end_time": "2023-06-09T19:12:04.519940",
     "exception": false,
     "start_time": "2023-06-09T19:12:04.484297",
     "status": "completed"
    },
    "tags": []
   },
   "outputs": [
    {
     "data": {
      "text/html": [
       "<div>\n",
       "<style scoped>\n",
       "    .dataframe tbody tr th:only-of-type {\n",
       "        vertical-align: middle;\n",
       "    }\n",
       "\n",
       "    .dataframe tbody tr th {\n",
       "        vertical-align: top;\n",
       "    }\n",
       "\n",
       "    .dataframe thead th {\n",
       "        text-align: right;\n",
       "    }\n",
       "</style>\n",
       "<table border=\"1\" class=\"dataframe\">\n",
       "  <thead>\n",
       "    <tr style=\"text-align: right;\">\n",
       "      <th></th>\n",
       "      <th>count</th>\n",
       "      <th>mean</th>\n",
       "      <th>std</th>\n",
       "      <th>min</th>\n",
       "      <th>25%</th>\n",
       "      <th>50%</th>\n",
       "      <th>75%</th>\n",
       "      <th>max</th>\n",
       "    </tr>\n",
       "  </thead>\n",
       "  <tbody>\n",
       "    <tr>\n",
       "      <th>work_year</th>\n",
       "      <td>3755.0</td>\n",
       "      <td>2022.373635</td>\n",
       "      <td>0.691448</td>\n",
       "      <td>2020.0</td>\n",
       "      <td>2022.0</td>\n",
       "      <td>2022.0</td>\n",
       "      <td>2023.0</td>\n",
       "      <td>2023.0</td>\n",
       "    </tr>\n",
       "    <tr>\n",
       "      <th>salary</th>\n",
       "      <td>3755.0</td>\n",
       "      <td>190695.571771</td>\n",
       "      <td>671676.500508</td>\n",
       "      <td>6000.0</td>\n",
       "      <td>100000.0</td>\n",
       "      <td>138000.0</td>\n",
       "      <td>180000.0</td>\n",
       "      <td>30400000.0</td>\n",
       "    </tr>\n",
       "    <tr>\n",
       "      <th>salary_in_usd</th>\n",
       "      <td>3755.0</td>\n",
       "      <td>137570.389880</td>\n",
       "      <td>63055.625278</td>\n",
       "      <td>5132.0</td>\n",
       "      <td>95000.0</td>\n",
       "      <td>135000.0</td>\n",
       "      <td>175000.0</td>\n",
       "      <td>450000.0</td>\n",
       "    </tr>\n",
       "  </tbody>\n",
       "</table>\n",
       "</div>"
      ],
      "text/plain": [
       "                count           mean            std     min       25%  \\\n",
       "work_year      3755.0    2022.373635       0.691448  2020.0    2022.0   \n",
       "salary         3755.0  190695.571771  671676.500508  6000.0  100000.0   \n",
       "salary_in_usd  3755.0  137570.389880   63055.625278  5132.0   95000.0   \n",
       "\n",
       "                    50%       75%         max  \n",
       "work_year        2022.0    2023.0      2023.0  \n",
       "salary         138000.0  180000.0  30400000.0  \n",
       "salary_in_usd  135000.0  175000.0    450000.0  "
      ]
     },
     "execution_count": 87,
     "metadata": {},
     "output_type": "execute_result"
    }
   ],
   "source": [
    "df.describe().T"
   ]
  },
  {
   "attachments": {},
   "cell_type": "markdown",
   "id": "a17fff85",
   "metadata": {
    "papermill": {
     "duration": 0.008601,
     "end_time": "2023-06-09T19:12:04.537486",
     "exception": false,
     "start_time": "2023-06-09T19:12:04.528885",
     "status": "completed"
    },
    "tags": []
   },
   "source": [
    "- On the basis of descriptive statistics of the dataframe, we can conclude that we have data points of 4 years starting from the year 2020 to 2023.\n",
    "- Minimum salary in the field of Data science is 6000 with maximum being as high as 30400000."
   ]
  },
  {
   "cell_type": "code",
   "execution_count": 88,
   "id": "14283dd3",
   "metadata": {
    "execution": {
     "iopub.execute_input": "2023-06-09T19:12:04.557156Z",
     "iopub.status.busy": "2023-06-09T19:12:04.556740Z",
     "iopub.status.idle": "2023-06-09T19:12:04.577935Z",
     "shell.execute_reply": "2023-06-09T19:12:04.576625Z"
    },
    "papermill": {
     "duration": 0.033703,
     "end_time": "2023-06-09T19:12:04.580087",
     "exception": false,
     "start_time": "2023-06-09T19:12:04.546384",
     "status": "completed"
    },
    "tags": []
   },
   "outputs": [
    {
     "name": "stdout",
     "output_type": "stream",
     "text": [
      "<class 'pandas.core.frame.DataFrame'>\n",
      "RangeIndex: 3755 entries, 0 to 3754\n",
      "Data columns (total 11 columns):\n",
      " #   Column              Non-Null Count  Dtype \n",
      "---  ------              --------------  ----- \n",
      " 0   work_year           3755 non-null   int64 \n",
      " 1   experience_level    3755 non-null   object\n",
      " 2   employment_type     3755 non-null   object\n",
      " 3   job_title           3755 non-null   object\n",
      " 4   salary              3755 non-null   int64 \n",
      " 5   salary_currency     3755 non-null   object\n",
      " 6   salary_in_usd       3755 non-null   int64 \n",
      " 7   employee_residence  3755 non-null   object\n",
      " 8   remote_ratio        3755 non-null   object\n",
      " 9   company_location    3755 non-null   object\n",
      " 10  company_size        3755 non-null   object\n",
      "dtypes: int64(3), object(8)\n",
      "memory usage: 322.8+ KB\n"
     ]
    }
   ],
   "source": [
    "df.info()"
   ]
  },
  {
   "cell_type": "code",
   "execution_count": 89,
   "id": "327419d7",
   "metadata": {
    "execution": {
     "iopub.execute_input": "2023-06-09T19:12:04.600267Z",
     "iopub.status.busy": "2023-06-09T19:12:04.599293Z",
     "iopub.status.idle": "2023-06-09T19:12:04.609796Z",
     "shell.execute_reply": "2023-06-09T19:12:04.609099Z"
    },
    "papermill": {
     "duration": 0.02243,
     "end_time": "2023-06-09T19:12:04.611614",
     "exception": false,
     "start_time": "2023-06-09T19:12:04.589184",
     "status": "completed"
    },
    "tags": []
   },
   "outputs": [
    {
     "data": {
      "text/plain": [
       "1171"
      ]
     },
     "execution_count": 89,
     "metadata": {},
     "output_type": "execute_result"
    }
   ],
   "source": [
    "df.duplicated().sum()"
   ]
  },
  {
   "cell_type": "code",
   "execution_count": 90,
   "id": "28cd63d6",
   "metadata": {
    "execution": {
     "iopub.execute_input": "2023-06-09T19:12:04.631632Z",
     "iopub.status.busy": "2023-06-09T19:12:04.631001Z",
     "iopub.status.idle": "2023-06-09T19:12:04.653448Z",
     "shell.execute_reply": "2023-06-09T19:12:04.652340Z"
    },
    "papermill": {
     "duration": 0.034972,
     "end_time": "2023-06-09T19:12:04.655610",
     "exception": false,
     "start_time": "2023-06-09T19:12:04.620638",
     "status": "completed"
    },
    "tags": []
   },
   "outputs": [
    {
     "data": {
      "text/html": [
       "<div>\n",
       "<style scoped>\n",
       "    .dataframe tbody tr th:only-of-type {\n",
       "        vertical-align: middle;\n",
       "    }\n",
       "\n",
       "    .dataframe tbody tr th {\n",
       "        vertical-align: top;\n",
       "    }\n",
       "\n",
       "    .dataframe thead th {\n",
       "        text-align: right;\n",
       "    }\n",
       "</style>\n",
       "<table border=\"1\" class=\"dataframe\">\n",
       "  <thead>\n",
       "    <tr style=\"text-align: right;\">\n",
       "      <th></th>\n",
       "      <th>work_year</th>\n",
       "      <th>experience_level</th>\n",
       "      <th>employment_type</th>\n",
       "      <th>job_title</th>\n",
       "      <th>salary</th>\n",
       "      <th>salary_currency</th>\n",
       "      <th>salary_in_usd</th>\n",
       "      <th>employee_residence</th>\n",
       "      <th>remote_ratio</th>\n",
       "      <th>company_location</th>\n",
       "      <th>company_size</th>\n",
       "    </tr>\n",
       "  </thead>\n",
       "  <tbody>\n",
       "    <tr>\n",
       "      <th>0</th>\n",
       "      <td>2023</td>\n",
       "      <td>Senior-Level</td>\n",
       "      <td>Full-Time</td>\n",
       "      <td>Principal Data Scientist</td>\n",
       "      <td>80000</td>\n",
       "      <td>EUR</td>\n",
       "      <td>85847</td>\n",
       "      <td>ES</td>\n",
       "      <td>remote</td>\n",
       "      <td>ES</td>\n",
       "      <td>Large</td>\n",
       "    </tr>\n",
       "    <tr>\n",
       "      <th>1</th>\n",
       "      <td>2023</td>\n",
       "      <td>Mid-Level</td>\n",
       "      <td>Contract</td>\n",
       "      <td>ML Engineer</td>\n",
       "      <td>30000</td>\n",
       "      <td>USD</td>\n",
       "      <td>30000</td>\n",
       "      <td>US</td>\n",
       "      <td>remote</td>\n",
       "      <td>US</td>\n",
       "      <td>Small</td>\n",
       "    </tr>\n",
       "    <tr>\n",
       "      <th>2</th>\n",
       "      <td>2023</td>\n",
       "      <td>Mid-Level</td>\n",
       "      <td>Contract</td>\n",
       "      <td>ML Engineer</td>\n",
       "      <td>25500</td>\n",
       "      <td>USD</td>\n",
       "      <td>25500</td>\n",
       "      <td>US</td>\n",
       "      <td>remote</td>\n",
       "      <td>US</td>\n",
       "      <td>Small</td>\n",
       "    </tr>\n",
       "    <tr>\n",
       "      <th>3</th>\n",
       "      <td>2023</td>\n",
       "      <td>Senior-Level</td>\n",
       "      <td>Full-Time</td>\n",
       "      <td>Data Scientist</td>\n",
       "      <td>175000</td>\n",
       "      <td>USD</td>\n",
       "      <td>175000</td>\n",
       "      <td>CA</td>\n",
       "      <td>remote</td>\n",
       "      <td>CA</td>\n",
       "      <td>Medium</td>\n",
       "    </tr>\n",
       "    <tr>\n",
       "      <th>4</th>\n",
       "      <td>2023</td>\n",
       "      <td>Senior-Level</td>\n",
       "      <td>Full-Time</td>\n",
       "      <td>Data Scientist</td>\n",
       "      <td>120000</td>\n",
       "      <td>USD</td>\n",
       "      <td>120000</td>\n",
       "      <td>CA</td>\n",
       "      <td>remote</td>\n",
       "      <td>CA</td>\n",
       "      <td>Medium</td>\n",
       "    </tr>\n",
       "    <tr>\n",
       "      <th>...</th>\n",
       "      <td>...</td>\n",
       "      <td>...</td>\n",
       "      <td>...</td>\n",
       "      <td>...</td>\n",
       "      <td>...</td>\n",
       "      <td>...</td>\n",
       "      <td>...</td>\n",
       "      <td>...</td>\n",
       "      <td>...</td>\n",
       "      <td>...</td>\n",
       "      <td>...</td>\n",
       "    </tr>\n",
       "    <tr>\n",
       "      <th>3750</th>\n",
       "      <td>2020</td>\n",
       "      <td>Senior-Level</td>\n",
       "      <td>Full-Time</td>\n",
       "      <td>Data Scientist</td>\n",
       "      <td>412000</td>\n",
       "      <td>USD</td>\n",
       "      <td>412000</td>\n",
       "      <td>US</td>\n",
       "      <td>remote</td>\n",
       "      <td>US</td>\n",
       "      <td>Large</td>\n",
       "    </tr>\n",
       "    <tr>\n",
       "      <th>3751</th>\n",
       "      <td>2021</td>\n",
       "      <td>Mid-Level</td>\n",
       "      <td>Full-Time</td>\n",
       "      <td>Principal Data Scientist</td>\n",
       "      <td>151000</td>\n",
       "      <td>USD</td>\n",
       "      <td>151000</td>\n",
       "      <td>US</td>\n",
       "      <td>remote</td>\n",
       "      <td>US</td>\n",
       "      <td>Large</td>\n",
       "    </tr>\n",
       "    <tr>\n",
       "      <th>3752</th>\n",
       "      <td>2020</td>\n",
       "      <td>Entry-Level</td>\n",
       "      <td>Full-Time</td>\n",
       "      <td>Data Scientist</td>\n",
       "      <td>105000</td>\n",
       "      <td>USD</td>\n",
       "      <td>105000</td>\n",
       "      <td>US</td>\n",
       "      <td>remote</td>\n",
       "      <td>US</td>\n",
       "      <td>Small</td>\n",
       "    </tr>\n",
       "    <tr>\n",
       "      <th>3753</th>\n",
       "      <td>2020</td>\n",
       "      <td>Entry-Level</td>\n",
       "      <td>Contract</td>\n",
       "      <td>Business Data Analyst</td>\n",
       "      <td>100000</td>\n",
       "      <td>USD</td>\n",
       "      <td>100000</td>\n",
       "      <td>US</td>\n",
       "      <td>remote</td>\n",
       "      <td>US</td>\n",
       "      <td>Large</td>\n",
       "    </tr>\n",
       "    <tr>\n",
       "      <th>3754</th>\n",
       "      <td>2021</td>\n",
       "      <td>Senior-Level</td>\n",
       "      <td>Full-Time</td>\n",
       "      <td>Data Science Manager</td>\n",
       "      <td>7000000</td>\n",
       "      <td>INR</td>\n",
       "      <td>94665</td>\n",
       "      <td>IN</td>\n",
       "      <td>hybrid</td>\n",
       "      <td>IN</td>\n",
       "      <td>Large</td>\n",
       "    </tr>\n",
       "  </tbody>\n",
       "</table>\n",
       "<p>2584 rows × 11 columns</p>\n",
       "</div>"
      ],
      "text/plain": [
       "      work_year experience_level employment_type                 job_title  \\\n",
       "0          2023     Senior-Level       Full-Time  Principal Data Scientist   \n",
       "1          2023        Mid-Level        Contract               ML Engineer   \n",
       "2          2023        Mid-Level        Contract               ML Engineer   \n",
       "3          2023     Senior-Level       Full-Time            Data Scientist   \n",
       "4          2023     Senior-Level       Full-Time            Data Scientist   \n",
       "...         ...              ...             ...                       ...   \n",
       "3750       2020     Senior-Level       Full-Time            Data Scientist   \n",
       "3751       2021        Mid-Level       Full-Time  Principal Data Scientist   \n",
       "3752       2020      Entry-Level       Full-Time            Data Scientist   \n",
       "3753       2020      Entry-Level        Contract     Business Data Analyst   \n",
       "3754       2021     Senior-Level       Full-Time      Data Science Manager   \n",
       "\n",
       "       salary salary_currency  salary_in_usd employee_residence remote_ratio  \\\n",
       "0       80000             EUR          85847                 ES       remote   \n",
       "1       30000             USD          30000                 US       remote   \n",
       "2       25500             USD          25500                 US       remote   \n",
       "3      175000             USD         175000                 CA       remote   \n",
       "4      120000             USD         120000                 CA       remote   \n",
       "...       ...             ...            ...                ...          ...   \n",
       "3750   412000             USD         412000                 US       remote   \n",
       "3751   151000             USD         151000                 US       remote   \n",
       "3752   105000             USD         105000                 US       remote   \n",
       "3753   100000             USD         100000                 US       remote   \n",
       "3754  7000000             INR          94665                 IN       hybrid   \n",
       "\n",
       "     company_location company_size  \n",
       "0                  ES        Large  \n",
       "1                  US        Small  \n",
       "2                  US        Small  \n",
       "3                  CA       Medium  \n",
       "4                  CA       Medium  \n",
       "...               ...          ...  \n",
       "3750               US        Large  \n",
       "3751               US        Large  \n",
       "3752               US        Small  \n",
       "3753               US        Large  \n",
       "3754               IN        Large  \n",
       "\n",
       "[2584 rows x 11 columns]"
      ]
     },
     "execution_count": 90,
     "metadata": {},
     "output_type": "execute_result"
    }
   ],
   "source": [
    "df = df.drop_duplicates()\n",
    "df"
   ]
  },
  {
   "cell_type": "code",
   "execution_count": 91,
   "id": "c54a470c",
   "metadata": {
    "execution": {
     "iopub.execute_input": "2023-06-09T19:12:04.676008Z",
     "iopub.status.busy": "2023-06-09T19:12:04.675639Z",
     "iopub.status.idle": "2023-06-09T19:12:04.685459Z",
     "shell.execute_reply": "2023-06-09T19:12:04.684475Z"
    },
    "papermill": {
     "duration": 0.022361,
     "end_time": "2023-06-09T19:12:04.687481",
     "exception": false,
     "start_time": "2023-06-09T19:12:04.665120",
     "status": "completed"
    },
    "tags": []
   },
   "outputs": [
    {
     "data": {
      "text/plain": [
       "0"
      ]
     },
     "execution_count": 91,
     "metadata": {},
     "output_type": "execute_result"
    }
   ],
   "source": [
    "df.duplicated().sum()"
   ]
  },
  {
   "attachments": {},
   "cell_type": "markdown",
   "id": "85e1ddeb",
   "metadata": {
    "papermill": {
     "duration": 0.019179,
     "end_time": "2023-06-09T19:12:09.950509",
     "exception": false,
     "start_time": "2023-06-09T19:12:09.931330",
     "status": "completed"
    },
    "tags": []
   },
   "source": [
    "## *DATA PREPROCESSING*"
   ]
  },
  {
   "cell_type": "code",
   "execution_count": 92,
   "id": "38dcbac3",
   "metadata": {},
   "outputs": [],
   "source": [
    "\n",
    "# Define a custom function to assign the salary range\n",
    "def assign_salary_range(salary):\n",
    "    if 0 < salary <= 450000:\n",
    "        range_start = int(salary / 30000) * 30000\n",
    "        range_end = range_start + 30000\n",
    "        return f'{range_start}-{range_end}'\n",
    "    else:\n",
    "        return 'Other'\n",
    "    \n",
    "# Create the new column based on the salary range\n",
    "df['salary_range'] = df['salary_in_usd'].apply(assign_salary_range)\n",
    "\n",
    "\n"
   ]
  },
  {
   "cell_type": "code",
   "execution_count": 93,
   "id": "37551eb3",
   "metadata": {},
   "outputs": [],
   "source": [
    "from sklearn.preprocessing import LabelEncoder\n",
    "import pandas as pd\n",
    "\n",
    "\n",
    "\n",
    "# Columns to encode\n",
    "columns_to_encode = ['experience_level', 'employment_type', 'job_title', 'remote_ratio', 'company_location', 'company_size','salary_range']\n",
    "\n",
    "# Encoding labels\n",
    "label_encoder = LabelEncoder()\n",
    "for column in columns_to_encode:\n",
    "    df[column] = label_encoder.fit_transform(df[column])\n",
    "\n"
   ]
  },
  {
   "cell_type": "code",
   "execution_count": 94,
   "id": "1b218a96",
   "metadata": {},
   "outputs": [],
   "source": [
    "\n",
    "columns_to_drop = ['work_year', 'salary', 'salary_in_usd', 'employee_residence', 'salary_currency', 'salary_range']\n",
    "X = df.drop(columns=columns_to_drop, axis = 1)\n"
   ]
  },
  {
   "cell_type": "code",
   "execution_count": 95,
   "id": "6041a3b3",
   "metadata": {},
   "outputs": [],
   "source": [
    "y = df[\"salary_range\"]"
   ]
  },
  {
   "cell_type": "code",
   "execution_count": 96,
   "id": "82b63fdc",
   "metadata": {},
   "outputs": [
    {
     "name": "stdout",
     "output_type": "stream",
     "text": [
      "Linear Regression RMSE: 5.576051656469447\n",
      "Random Forest RMSE: 5.618789810131667\n"
     ]
    }
   ],
   "source": [
    "X_train, X_test, y_train, y_test = train_test_split(X, y, test_size=0.2, random_state=42)\n",
    "\n",
    "# Linear Regression\n",
    "linear_regression = LinearRegression()\n",
    "linear_regression.fit(X_train, y_train)\n",
    "\n",
    "# Random Forest Regression\n",
    "random_forest = RandomForestRegressor()\n",
    "random_forest.fit(X_train, y_train)\n",
    "\n",
    "# Predicting on the test set\n",
    "linear_regression_preds = linear_regression.predict(X_test)\n",
    "random_forest_preds = random_forest.predict(X_test)\n",
    "\n",
    "# Evaluating the models\n",
    "linear_regression_rmse = mean_squared_error(y_test, linear_regression_preds, squared=False)\n",
    "random_forest_rmse = mean_squared_error(y_test, random_forest_preds, squared=False)\n",
    "\n",
    "print(\"Linear Regression RMSE:\", linear_regression_rmse)\n",
    "print(\"Random Forest RMSE:\", random_forest_rmse)"
   ]
  },
  {
   "cell_type": "code",
   "execution_count": 99,
   "id": "62af943e",
   "metadata": {},
   "outputs": [],
   "source": [
    "from sklearn.ensemble import RandomForestClassifier\n",
    "from sklearn.neighbors import KNeighborsClassifier\n",
    "from sklearn.model_selection import cross_val_score\n",
    "from sklearn.linear_model import LogisticRegression\n",
    "from sklearn.naive_bayes import GaussianNB\n",
    "from sklearn.tree import DecisionTreeClassifier\n",
    "from sklearn.model_selection import train_test_split\n",
    "import numpy as np\n",
    "import pandas as pd\n",
    "from sklearn.metrics import confusion_matrix, classification_report\n",
    "from sklearn.metrics import accuracy_score as acs\n",
    "from sklearn.model_selection import GridSearchCV\n",
    "X_train, X_test, y_train, y_test = train_test_split(X, y, test_size=0.2, random_state=0, shuffle=True)\n",
    "\n",
    "\n",
    "y_train = np.array(y_train)\n",
    "y_train = y_train.reshape(-1)\n",
    "\n",
    "\n",
    "y_test = np.array(y_test)\n",
    "y_test = y_test.reshape(-1)\n",
    "\n",
    "\n",
    "# KNN\n",
    "\n",
    "\n",
    "kn = KNeighborsClassifier(n_neighbors=5, metric='minkowski', p=2)\n",
    "kn.fit(X_train, y_train)\n",
    "\n",
    "\n",
    "# Training and testing set from Decision tree\n",
    "\n",
    "\n",
    "dt = DecisionTreeClassifier()\n",
    "dt.fit(X_train, y_train)\n",
    "\n",
    "\n",
    "# Naive Bayes\n",
    "\n",
    "nb = GaussianNB()\n",
    "nb.fit(X_train, y_train)\n",
    "\n",
    "\n",
    "# Logistic regression\n",
    "para=[{'max_iter':[1500,2500,3500,4500]}]\n",
    "lr = GridSearchCV(LogisticRegression(), param_grid=para, cv=5, scoring='r2')\n",
    "lr.fit(X_train, y_train)\n",
    "\n",
    "# Random forest\n",
    "\n",
    "\n",
    "rfc = RandomForestClassifier(n_estimators=50, max_depth=15)\n",
    "rfc.fit(X_train, y_train)\n",
    "\n",
    "\n",
    "def ensemble(X):\n",
    "    predictionKN = kn.predict(X)\n",
    "    predictionDT = dt.predict(X)\n",
    "    predictionNB = nb.predict(X)\n",
    "    predictionLR = lr.predict(X)\n",
    "    predictionRFC = rfc.predict(X)\n",
    "\n",
    "    ensemble_prediction = np.zeros(len(predictionDT))\n",
    "    for i in range(len(predictionDT)):\n",
    "        ensemble_prediction[i] = predictionDT[i]+predictionKN[i] + predictionNB[i]+predictionLR[i]+predictionRFC[i]\n",
    "\n",
    "    for j in range(len(predictionDT)):\n",
    "        if ensemble_prediction[j] >= 3:\n",
    "            ensemble_prediction[j] = 1\n",
    "        else:\n",
    "            ensemble_prediction[j] = 0\n",
    "    return ensemble_prediction\n",
    "\n",
    "\n",
    "    \n",
    "ensemble_prediction=ensemble(X_test)\n",
    "score = acs(y_test, ensemble_prediction)"
   ]
  },
  {
   "cell_type": "code",
   "execution_count": 100,
   "id": "8171511e",
   "metadata": {},
   "outputs": [
    {
     "data": {
      "text/plain": [
       "0.18568665377176016"
      ]
     },
     "execution_count": 100,
     "metadata": {},
     "output_type": "execute_result"
    }
   ],
   "source": [
    "score"
   ]
  },
  {
   "cell_type": "code",
   "execution_count": null,
   "id": "2c354174",
   "metadata": {},
   "outputs": [],
   "source": []
  }
 ],
 "metadata": {
  "kernelspec": {
   "display_name": "Python 3",
   "language": "python",
   "name": "python3"
  },
  "language_info": {
   "codemirror_mode": {
    "name": "ipython",
    "version": 3
   },
   "file_extension": ".py",
   "mimetype": "text/x-python",
   "name": "python",
   "nbconvert_exporter": "python",
   "pygments_lexer": "ipython3",
   "version": "3.10.6"
  },
  "papermill": {
   "default_parameters": {},
   "duration": 19.808349,
   "end_time": "2023-06-09T19:12:12.428540",
   "environment_variables": {},
   "exception": null,
   "input_path": "__notebook__.ipynb",
   "output_path": "__notebook__.ipynb",
   "parameters": {},
   "start_time": "2023-06-09T19:11:52.620191",
   "version": "2.4.0"
  }
 },
 "nbformat": 4,
 "nbformat_minor": 5
}
