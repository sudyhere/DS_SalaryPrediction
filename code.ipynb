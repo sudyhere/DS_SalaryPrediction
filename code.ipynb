{
 "cells": [
  {
   "attachments": {},
   "cell_type": "markdown",
   "id": "77b1eea0",
   "metadata": {
    "papermill": {
     "duration": 0.025079,
     "end_time": "2023-06-01T03:35:05.687697",
     "exception": false,
     "start_time": "2023-06-01T03:35:05.662618",
     "status": "completed"
    },
    "tags": []
   },
   "source": [
    "# Import Libraries"
   ]
  },
  {
   "cell_type": "code",
   "execution_count": 3,
   "id": "db7c9b58",
   "metadata": {
    "execution": {
     "iopub.execute_input": "2023-06-01T03:35:05.741032Z",
     "iopub.status.busy": "2023-06-01T03:35:05.740492Z",
     "iopub.status.idle": "2023-06-01T03:35:07.971473Z",
     "shell.execute_reply": "2023-06-01T03:35:07.970282Z"
    },
    "papermill": {
     "duration": 2.262554,
     "end_time": "2023-06-01T03:35:07.974370",
     "exception": false,
     "start_time": "2023-06-01T03:35:05.711816",
     "status": "completed"
    },
    "tags": []
   },
   "outputs": [],
   "source": [
    "import pandas as pd\n",
    "import numpy as np\n",
    "import seaborn as sns\n",
    "import matplotlib.pyplot as plt\n",
    "import plotly.express as px\n",
    "import warnings\n",
    "warnings.filterwarnings('ignore')\n",
    "import warnings"
   ]
  },
  {
   "attachments": {},
   "cell_type": "markdown",
   "id": "e8839907",
   "metadata": {
    "papermill": {
     "duration": 0.022066,
     "end_time": "2023-06-01T03:35:08.018779",
     "exception": false,
     "start_time": "2023-06-01T03:35:07.996713",
     "status": "completed"
    },
    "tags": []
   },
   "source": [
    "# Data Importing"
   ]
  },
  {
   "cell_type": "code",
   "execution_count": 4,
   "id": "04532ffe",
   "metadata": {
    "execution": {
     "iopub.execute_input": "2023-06-01T03:35:08.064679Z",
     "iopub.status.busy": "2023-06-01T03:35:08.064237Z",
     "iopub.status.idle": "2023-06-01T03:35:08.140937Z",
     "shell.execute_reply": "2023-06-01T03:35:08.140060Z"
    },
    "papermill": {
     "duration": 0.102231,
     "end_time": "2023-06-01T03:35:08.143089",
     "exception": false,
     "start_time": "2023-06-01T03:35:08.040858",
     "status": "completed"
    },
    "tags": []
   },
   "outputs": [
    {
     "data": {
      "text/html": [
       "<div>\n",
       "<style scoped>\n",
       "    .dataframe tbody tr th:only-of-type {\n",
       "        vertical-align: middle;\n",
       "    }\n",
       "\n",
       "    .dataframe tbody tr th {\n",
       "        vertical-align: top;\n",
       "    }\n",
       "\n",
       "    .dataframe thead th {\n",
       "        text-align: right;\n",
       "    }\n",
       "</style>\n",
       "<table border=\"1\" class=\"dataframe\">\n",
       "  <thead>\n",
       "    <tr style=\"text-align: right;\">\n",
       "      <th></th>\n",
       "      <th>work_year</th>\n",
       "      <th>experience_level</th>\n",
       "      <th>employment_type</th>\n",
       "      <th>job_title</th>\n",
       "      <th>salary</th>\n",
       "      <th>salary_currency</th>\n",
       "      <th>salary_in_usd</th>\n",
       "      <th>employee_residence</th>\n",
       "      <th>remote_ratio</th>\n",
       "      <th>company_location</th>\n",
       "      <th>company_size</th>\n",
       "    </tr>\n",
       "  </thead>\n",
       "  <tbody>\n",
       "    <tr>\n",
       "      <th>0</th>\n",
       "      <td>2023</td>\n",
       "      <td>SE</td>\n",
       "      <td>FT</td>\n",
       "      <td>Principal Data Scientist</td>\n",
       "      <td>80000</td>\n",
       "      <td>EUR</td>\n",
       "      <td>85847</td>\n",
       "      <td>ES</td>\n",
       "      <td>100</td>\n",
       "      <td>ES</td>\n",
       "      <td>L</td>\n",
       "    </tr>\n",
       "    <tr>\n",
       "      <th>1</th>\n",
       "      <td>2023</td>\n",
       "      <td>MI</td>\n",
       "      <td>CT</td>\n",
       "      <td>ML Engineer</td>\n",
       "      <td>30000</td>\n",
       "      <td>USD</td>\n",
       "      <td>30000</td>\n",
       "      <td>US</td>\n",
       "      <td>100</td>\n",
       "      <td>US</td>\n",
       "      <td>S</td>\n",
       "    </tr>\n",
       "    <tr>\n",
       "      <th>2</th>\n",
       "      <td>2023</td>\n",
       "      <td>MI</td>\n",
       "      <td>CT</td>\n",
       "      <td>ML Engineer</td>\n",
       "      <td>25500</td>\n",
       "      <td>USD</td>\n",
       "      <td>25500</td>\n",
       "      <td>US</td>\n",
       "      <td>100</td>\n",
       "      <td>US</td>\n",
       "      <td>S</td>\n",
       "    </tr>\n",
       "    <tr>\n",
       "      <th>3</th>\n",
       "      <td>2023</td>\n",
       "      <td>SE</td>\n",
       "      <td>FT</td>\n",
       "      <td>Data Scientist</td>\n",
       "      <td>175000</td>\n",
       "      <td>USD</td>\n",
       "      <td>175000</td>\n",
       "      <td>CA</td>\n",
       "      <td>100</td>\n",
       "      <td>CA</td>\n",
       "      <td>M</td>\n",
       "    </tr>\n",
       "    <tr>\n",
       "      <th>4</th>\n",
       "      <td>2023</td>\n",
       "      <td>SE</td>\n",
       "      <td>FT</td>\n",
       "      <td>Data Scientist</td>\n",
       "      <td>120000</td>\n",
       "      <td>USD</td>\n",
       "      <td>120000</td>\n",
       "      <td>CA</td>\n",
       "      <td>100</td>\n",
       "      <td>CA</td>\n",
       "      <td>M</td>\n",
       "    </tr>\n",
       "    <tr>\n",
       "      <th>...</th>\n",
       "      <td>...</td>\n",
       "      <td>...</td>\n",
       "      <td>...</td>\n",
       "      <td>...</td>\n",
       "      <td>...</td>\n",
       "      <td>...</td>\n",
       "      <td>...</td>\n",
       "      <td>...</td>\n",
       "      <td>...</td>\n",
       "      <td>...</td>\n",
       "      <td>...</td>\n",
       "    </tr>\n",
       "    <tr>\n",
       "      <th>3750</th>\n",
       "      <td>2020</td>\n",
       "      <td>SE</td>\n",
       "      <td>FT</td>\n",
       "      <td>Data Scientist</td>\n",
       "      <td>412000</td>\n",
       "      <td>USD</td>\n",
       "      <td>412000</td>\n",
       "      <td>US</td>\n",
       "      <td>100</td>\n",
       "      <td>US</td>\n",
       "      <td>L</td>\n",
       "    </tr>\n",
       "    <tr>\n",
       "      <th>3751</th>\n",
       "      <td>2021</td>\n",
       "      <td>MI</td>\n",
       "      <td>FT</td>\n",
       "      <td>Principal Data Scientist</td>\n",
       "      <td>151000</td>\n",
       "      <td>USD</td>\n",
       "      <td>151000</td>\n",
       "      <td>US</td>\n",
       "      <td>100</td>\n",
       "      <td>US</td>\n",
       "      <td>L</td>\n",
       "    </tr>\n",
       "    <tr>\n",
       "      <th>3752</th>\n",
       "      <td>2020</td>\n",
       "      <td>EN</td>\n",
       "      <td>FT</td>\n",
       "      <td>Data Scientist</td>\n",
       "      <td>105000</td>\n",
       "      <td>USD</td>\n",
       "      <td>105000</td>\n",
       "      <td>US</td>\n",
       "      <td>100</td>\n",
       "      <td>US</td>\n",
       "      <td>S</td>\n",
       "    </tr>\n",
       "    <tr>\n",
       "      <th>3753</th>\n",
       "      <td>2020</td>\n",
       "      <td>EN</td>\n",
       "      <td>CT</td>\n",
       "      <td>Business Data Analyst</td>\n",
       "      <td>100000</td>\n",
       "      <td>USD</td>\n",
       "      <td>100000</td>\n",
       "      <td>US</td>\n",
       "      <td>100</td>\n",
       "      <td>US</td>\n",
       "      <td>L</td>\n",
       "    </tr>\n",
       "    <tr>\n",
       "      <th>3754</th>\n",
       "      <td>2021</td>\n",
       "      <td>SE</td>\n",
       "      <td>FT</td>\n",
       "      <td>Data Science Manager</td>\n",
       "      <td>7000000</td>\n",
       "      <td>INR</td>\n",
       "      <td>94665</td>\n",
       "      <td>IN</td>\n",
       "      <td>50</td>\n",
       "      <td>IN</td>\n",
       "      <td>L</td>\n",
       "    </tr>\n",
       "  </tbody>\n",
       "</table>\n",
       "<p>3755 rows × 11 columns</p>\n",
       "</div>"
      ],
      "text/plain": [
       "      work_year experience_level employment_type                 job_title  \\\n",
       "0          2023               SE              FT  Principal Data Scientist   \n",
       "1          2023               MI              CT               ML Engineer   \n",
       "2          2023               MI              CT               ML Engineer   \n",
       "3          2023               SE              FT            Data Scientist   \n",
       "4          2023               SE              FT            Data Scientist   \n",
       "...         ...              ...             ...                       ...   \n",
       "3750       2020               SE              FT            Data Scientist   \n",
       "3751       2021               MI              FT  Principal Data Scientist   \n",
       "3752       2020               EN              FT            Data Scientist   \n",
       "3753       2020               EN              CT     Business Data Analyst   \n",
       "3754       2021               SE              FT      Data Science Manager   \n",
       "\n",
       "       salary salary_currency  salary_in_usd employee_residence  remote_ratio  \\\n",
       "0       80000             EUR          85847                 ES           100   \n",
       "1       30000             USD          30000                 US           100   \n",
       "2       25500             USD          25500                 US           100   \n",
       "3      175000             USD         175000                 CA           100   \n",
       "4      120000             USD         120000                 CA           100   \n",
       "...       ...             ...            ...                ...           ...   \n",
       "3750   412000             USD         412000                 US           100   \n",
       "3751   151000             USD         151000                 US           100   \n",
       "3752   105000             USD         105000                 US           100   \n",
       "3753   100000             USD         100000                 US           100   \n",
       "3754  7000000             INR          94665                 IN            50   \n",
       "\n",
       "     company_location company_size  \n",
       "0                  ES            L  \n",
       "1                  US            S  \n",
       "2                  US            S  \n",
       "3                  CA            M  \n",
       "4                  CA            M  \n",
       "...               ...          ...  \n",
       "3750               US            L  \n",
       "3751               US            L  \n",
       "3752               US            S  \n",
       "3753               US            L  \n",
       "3754               IN            L  \n",
       "\n",
       "[3755 rows x 11 columns]"
      ]
     },
     "execution_count": 4,
     "metadata": {},
     "output_type": "execute_result"
    }
   ],
   "source": [
    "data=pd.read_csv('ds_salaries.csv')\n",
    "data"
   ]
  },
  {
   "attachments": {},
   "cell_type": "markdown",
   "id": "0235e241",
   "metadata": {
    "papermill": {
     "duration": 0.02264,
     "end_time": "2023-06-01T03:35:08.188352",
     "exception": false,
     "start_time": "2023-06-01T03:35:08.165712",
     "status": "completed"
    },
    "tags": []
   },
   "source": [
    "# Data Describe"
   ]
  },
  {
   "attachments": {},
   "cell_type": "markdown",
   "id": "be281018",
   "metadata": {
    "papermill": {
     "duration": 0.022934,
     "end_time": "2023-06-01T03:35:08.454222",
     "exception": false,
     "start_time": "2023-06-01T03:35:08.431288",
     "status": "completed"
    },
    "tags": []
   },
   "source": [
    "# Data Preprocessing & Cleaning"
   ]
  },
  {
   "cell_type": "code",
   "execution_count": 5,
   "id": "e8fad827",
   "metadata": {
    "execution": {
     "iopub.execute_input": "2023-06-01T03:35:08.502983Z",
     "iopub.status.busy": "2023-06-01T03:35:08.502562Z",
     "iopub.status.idle": "2023-06-01T03:35:08.524039Z",
     "shell.execute_reply": "2023-06-01T03:35:08.523245Z"
    },
    "papermill": {
     "duration": 0.048598,
     "end_time": "2023-06-01T03:35:08.526031",
     "exception": false,
     "start_time": "2023-06-01T03:35:08.477433",
     "status": "completed"
    },
    "tags": []
   },
   "outputs": [
    {
     "data": {
      "text/html": [
       "<div>\n",
       "<style scoped>\n",
       "    .dataframe tbody tr th:only-of-type {\n",
       "        vertical-align: middle;\n",
       "    }\n",
       "\n",
       "    .dataframe tbody tr th {\n",
       "        vertical-align: top;\n",
       "    }\n",
       "\n",
       "    .dataframe thead th {\n",
       "        text-align: right;\n",
       "    }\n",
       "</style>\n",
       "<table border=\"1\" class=\"dataframe\">\n",
       "  <thead>\n",
       "    <tr style=\"text-align: right;\">\n",
       "      <th></th>\n",
       "      <th>work_year</th>\n",
       "      <th>experience_level</th>\n",
       "      <th>employment_type</th>\n",
       "      <th>job_title</th>\n",
       "      <th>salary</th>\n",
       "      <th>salary_currency</th>\n",
       "      <th>salary_in_usd</th>\n",
       "      <th>employee_residence</th>\n",
       "      <th>remote_ratio</th>\n",
       "      <th>company_location</th>\n",
       "      <th>company_size</th>\n",
       "    </tr>\n",
       "  </thead>\n",
       "  <tbody>\n",
       "    <tr>\n",
       "      <th>0</th>\n",
       "      <td>2023</td>\n",
       "      <td>SE</td>\n",
       "      <td>FT</td>\n",
       "      <td>Principal Data Scientist</td>\n",
       "      <td>80000</td>\n",
       "      <td>EUR</td>\n",
       "      <td>85847</td>\n",
       "      <td>ES</td>\n",
       "      <td>100</td>\n",
       "      <td>ES</td>\n",
       "      <td>L</td>\n",
       "    </tr>\n",
       "    <tr>\n",
       "      <th>1</th>\n",
       "      <td>2023</td>\n",
       "      <td>MI</td>\n",
       "      <td>CT</td>\n",
       "      <td>ML Engineer</td>\n",
       "      <td>30000</td>\n",
       "      <td>USD</td>\n",
       "      <td>30000</td>\n",
       "      <td>US</td>\n",
       "      <td>100</td>\n",
       "      <td>US</td>\n",
       "      <td>S</td>\n",
       "    </tr>\n",
       "    <tr>\n",
       "      <th>2</th>\n",
       "      <td>2023</td>\n",
       "      <td>MI</td>\n",
       "      <td>CT</td>\n",
       "      <td>ML Engineer</td>\n",
       "      <td>25500</td>\n",
       "      <td>USD</td>\n",
       "      <td>25500</td>\n",
       "      <td>US</td>\n",
       "      <td>100</td>\n",
       "      <td>US</td>\n",
       "      <td>S</td>\n",
       "    </tr>\n",
       "    <tr>\n",
       "      <th>3</th>\n",
       "      <td>2023</td>\n",
       "      <td>SE</td>\n",
       "      <td>FT</td>\n",
       "      <td>Data Scientist</td>\n",
       "      <td>175000</td>\n",
       "      <td>USD</td>\n",
       "      <td>175000</td>\n",
       "      <td>CA</td>\n",
       "      <td>100</td>\n",
       "      <td>CA</td>\n",
       "      <td>M</td>\n",
       "    </tr>\n",
       "    <tr>\n",
       "      <th>4</th>\n",
       "      <td>2023</td>\n",
       "      <td>SE</td>\n",
       "      <td>FT</td>\n",
       "      <td>Data Scientist</td>\n",
       "      <td>120000</td>\n",
       "      <td>USD</td>\n",
       "      <td>120000</td>\n",
       "      <td>CA</td>\n",
       "      <td>100</td>\n",
       "      <td>CA</td>\n",
       "      <td>M</td>\n",
       "    </tr>\n",
       "    <tr>\n",
       "      <th>...</th>\n",
       "      <td>...</td>\n",
       "      <td>...</td>\n",
       "      <td>...</td>\n",
       "      <td>...</td>\n",
       "      <td>...</td>\n",
       "      <td>...</td>\n",
       "      <td>...</td>\n",
       "      <td>...</td>\n",
       "      <td>...</td>\n",
       "      <td>...</td>\n",
       "      <td>...</td>\n",
       "    </tr>\n",
       "    <tr>\n",
       "      <th>3750</th>\n",
       "      <td>2020</td>\n",
       "      <td>SE</td>\n",
       "      <td>FT</td>\n",
       "      <td>Data Scientist</td>\n",
       "      <td>412000</td>\n",
       "      <td>USD</td>\n",
       "      <td>412000</td>\n",
       "      <td>US</td>\n",
       "      <td>100</td>\n",
       "      <td>US</td>\n",
       "      <td>L</td>\n",
       "    </tr>\n",
       "    <tr>\n",
       "      <th>3751</th>\n",
       "      <td>2021</td>\n",
       "      <td>MI</td>\n",
       "      <td>FT</td>\n",
       "      <td>Principal Data Scientist</td>\n",
       "      <td>151000</td>\n",
       "      <td>USD</td>\n",
       "      <td>151000</td>\n",
       "      <td>US</td>\n",
       "      <td>100</td>\n",
       "      <td>US</td>\n",
       "      <td>L</td>\n",
       "    </tr>\n",
       "    <tr>\n",
       "      <th>3752</th>\n",
       "      <td>2020</td>\n",
       "      <td>EN</td>\n",
       "      <td>FT</td>\n",
       "      <td>Data Scientist</td>\n",
       "      <td>105000</td>\n",
       "      <td>USD</td>\n",
       "      <td>105000</td>\n",
       "      <td>US</td>\n",
       "      <td>100</td>\n",
       "      <td>US</td>\n",
       "      <td>S</td>\n",
       "    </tr>\n",
       "    <tr>\n",
       "      <th>3753</th>\n",
       "      <td>2020</td>\n",
       "      <td>EN</td>\n",
       "      <td>CT</td>\n",
       "      <td>Business Data Analyst</td>\n",
       "      <td>100000</td>\n",
       "      <td>USD</td>\n",
       "      <td>100000</td>\n",
       "      <td>US</td>\n",
       "      <td>100</td>\n",
       "      <td>US</td>\n",
       "      <td>L</td>\n",
       "    </tr>\n",
       "    <tr>\n",
       "      <th>3754</th>\n",
       "      <td>2021</td>\n",
       "      <td>SE</td>\n",
       "      <td>FT</td>\n",
       "      <td>Data Science Manager</td>\n",
       "      <td>7000000</td>\n",
       "      <td>INR</td>\n",
       "      <td>94665</td>\n",
       "      <td>IN</td>\n",
       "      <td>50</td>\n",
       "      <td>IN</td>\n",
       "      <td>L</td>\n",
       "    </tr>\n",
       "  </tbody>\n",
       "</table>\n",
       "<p>3755 rows × 11 columns</p>\n",
       "</div>"
      ],
      "text/plain": [
       "      work_year experience_level employment_type                 job_title  \\\n",
       "0          2023               SE              FT  Principal Data Scientist   \n",
       "1          2023               MI              CT               ML Engineer   \n",
       "2          2023               MI              CT               ML Engineer   \n",
       "3          2023               SE              FT            Data Scientist   \n",
       "4          2023               SE              FT            Data Scientist   \n",
       "...         ...              ...             ...                       ...   \n",
       "3750       2020               SE              FT            Data Scientist   \n",
       "3751       2021               MI              FT  Principal Data Scientist   \n",
       "3752       2020               EN              FT            Data Scientist   \n",
       "3753       2020               EN              CT     Business Data Analyst   \n",
       "3754       2021               SE              FT      Data Science Manager   \n",
       "\n",
       "       salary salary_currency  salary_in_usd employee_residence  remote_ratio  \\\n",
       "0       80000             EUR          85847                 ES           100   \n",
       "1       30000             USD          30000                 US           100   \n",
       "2       25500             USD          25500                 US           100   \n",
       "3      175000             USD         175000                 CA           100   \n",
       "4      120000             USD         120000                 CA           100   \n",
       "...       ...             ...            ...                ...           ...   \n",
       "3750   412000             USD         412000                 US           100   \n",
       "3751   151000             USD         151000                 US           100   \n",
       "3752   105000             USD         105000                 US           100   \n",
       "3753   100000             USD         100000                 US           100   \n",
       "3754  7000000             INR          94665                 IN            50   \n",
       "\n",
       "     company_location company_size  \n",
       "0                  ES            L  \n",
       "1                  US            S  \n",
       "2                  US            S  \n",
       "3                  CA            M  \n",
       "4                  CA            M  \n",
       "...               ...          ...  \n",
       "3750               US            L  \n",
       "3751               US            L  \n",
       "3752               US            S  \n",
       "3753               US            L  \n",
       "3754               IN            L  \n",
       "\n",
       "[3755 rows x 11 columns]"
      ]
     },
     "execution_count": 5,
     "metadata": {},
     "output_type": "execute_result"
    }
   ],
   "source": [
    "df=data.copy()\n",
    "df"
   ]
  },
  {
   "cell_type": "code",
   "execution_count": 6,
   "id": "a3cbed97",
   "metadata": {
    "execution": {
     "iopub.execute_input": "2023-06-01T03:35:09.586310Z",
     "iopub.status.busy": "2023-06-01T03:35:09.585356Z",
     "iopub.status.idle": "2023-06-01T03:35:09.595212Z",
     "shell.execute_reply": "2023-06-01T03:35:09.594016Z"
    },
    "papermill": {
     "duration": 0.040015,
     "end_time": "2023-06-01T03:35:09.597999",
     "exception": false,
     "start_time": "2023-06-01T03:35:09.557984",
     "status": "completed"
    },
    "tags": []
   },
   "outputs": [],
   "source": [
    "df['experience_level'].replace(['SE','MI','EN','EX'],[\"Senior-level / Expert\",\"Mid-level / Intermediate\",\"Entry-level / Junior\",\"Executive-level / Director\"],inplace=True)"
   ]
  },
  {
   "cell_type": "code",
   "execution_count": 7,
   "id": "30151555",
   "metadata": {
    "execution": {
     "iopub.execute_input": "2023-06-01T03:35:09.651878Z",
     "iopub.status.busy": "2023-06-01T03:35:09.651466Z",
     "iopub.status.idle": "2023-06-01T03:35:09.661125Z",
     "shell.execute_reply": "2023-06-01T03:35:09.659877Z"
    },
    "papermill": {
     "duration": 0.039932,
     "end_time": "2023-06-01T03:35:09.663706",
     "exception": false,
     "start_time": "2023-06-01T03:35:09.623774",
     "status": "completed"
    },
    "tags": []
   },
   "outputs": [
    {
     "data": {
      "text/plain": [
       "Senior-level / Expert         2516\n",
       "Mid-level / Intermediate       805\n",
       "Entry-level / Junior           320\n",
       "Executive-level / Director     114\n",
       "Name: experience_level, dtype: int64"
      ]
     },
     "execution_count": 7,
     "metadata": {},
     "output_type": "execute_result"
    }
   ],
   "source": [
    "df['experience_level'].value_counts()"
   ]
  },
  {
   "cell_type": "code",
   "execution_count": 8,
   "id": "2d6d6294",
   "metadata": {
    "execution": {
     "iopub.execute_input": "2023-06-01T03:35:09.726530Z",
     "iopub.status.busy": "2023-06-01T03:35:09.725035Z",
     "iopub.status.idle": "2023-06-01T03:35:09.736579Z",
     "shell.execute_reply": "2023-06-01T03:35:09.735828Z"
    },
    "papermill": {
     "duration": 0.0451,
     "end_time": "2023-06-01T03:35:09.740278",
     "exception": false,
     "start_time": "2023-06-01T03:35:09.695178",
     "status": "completed"
    },
    "tags": []
   },
   "outputs": [
    {
     "data": {
      "text/plain": [
       "FT    3718\n",
       "PT      17\n",
       "CT      10\n",
       "FL      10\n",
       "Name: employment_type, dtype: int64"
      ]
     },
     "execution_count": 8,
     "metadata": {},
     "output_type": "execute_result"
    }
   ],
   "source": [
    "df['employment_type'].value_counts()"
   ]
  },
  {
   "cell_type": "code",
   "execution_count": 9,
   "id": "83abe05b",
   "metadata": {
    "execution": {
     "iopub.execute_input": "2023-06-01T03:35:09.804184Z",
     "iopub.status.busy": "2023-06-01T03:35:09.803256Z",
     "iopub.status.idle": "2023-06-01T03:35:09.812869Z",
     "shell.execute_reply": "2023-06-01T03:35:09.811828Z"
    },
    "papermill": {
     "duration": 0.03989,
     "end_time": "2023-06-01T03:35:09.815143",
     "exception": false,
     "start_time": "2023-06-01T03:35:09.775253",
     "status": "completed"
    },
    "tags": []
   },
   "outputs": [],
   "source": [
    "df['employment_type'].replace(['FT','PT','CT','FL'],[\"Full-time\",\"Part-time\",\"Contract\",\"Freelance\"],inplace=True)"
   ]
  },
  {
   "cell_type": "code",
   "execution_count": 10,
   "id": "a43980f5",
   "metadata": {
    "execution": {
     "iopub.execute_input": "2023-06-01T03:35:09.868817Z",
     "iopub.status.busy": "2023-06-01T03:35:09.867892Z",
     "iopub.status.idle": "2023-06-01T03:35:09.878130Z",
     "shell.execute_reply": "2023-06-01T03:35:09.877120Z"
    },
    "papermill": {
     "duration": 0.039894,
     "end_time": "2023-06-01T03:35:09.880539",
     "exception": false,
     "start_time": "2023-06-01T03:35:09.840645",
     "status": "completed"
    },
    "tags": []
   },
   "outputs": [
    {
     "data": {
      "text/plain": [
       "Full-time    3718\n",
       "Part-time      17\n",
       "Contract       10\n",
       "Freelance      10\n",
       "Name: employment_type, dtype: int64"
      ]
     },
     "execution_count": 10,
     "metadata": {},
     "output_type": "execute_result"
    }
   ],
   "source": [
    "df['employment_type'].value_counts()"
   ]
  },
  {
   "cell_type": "code",
   "execution_count": 11,
   "id": "949ee874",
   "metadata": {
    "execution": {
     "iopub.execute_input": "2023-06-01T03:35:09.934594Z",
     "iopub.status.busy": "2023-06-01T03:35:09.933660Z",
     "iopub.status.idle": "2023-06-01T03:35:09.946153Z",
     "shell.execute_reply": "2023-06-01T03:35:09.945130Z"
    },
    "papermill": {
     "duration": 0.042532,
     "end_time": "2023-06-01T03:35:09.948771",
     "exception": false,
     "start_time": "2023-06-01T03:35:09.906239",
     "status": "completed"
    },
    "tags": []
   },
   "outputs": [
    {
     "data": {
      "text/plain": [
       "M    3153\n",
       "L     454\n",
       "S     148\n",
       "Name: company_size, dtype: int64"
      ]
     },
     "execution_count": 11,
     "metadata": {},
     "output_type": "execute_result"
    }
   ],
   "source": [
    "df['company_size'].value_counts()"
   ]
  },
  {
   "cell_type": "code",
   "execution_count": 12,
   "id": "c9559745",
   "metadata": {
    "execution": {
     "iopub.execute_input": "2023-06-01T03:35:10.007624Z",
     "iopub.status.busy": "2023-06-01T03:35:10.007142Z",
     "iopub.status.idle": "2023-06-01T03:35:10.016263Z",
     "shell.execute_reply": "2023-06-01T03:35:10.015228Z"
    },
    "papermill": {
     "duration": 0.039082,
     "end_time": "2023-06-01T03:35:10.018663",
     "exception": false,
     "start_time": "2023-06-01T03:35:09.979581",
     "status": "completed"
    },
    "tags": []
   },
   "outputs": [],
   "source": [
    "df['company_size'].replace(['M','L','S'],[\"medium\",\"Large\",\"Small\"],inplace=True)"
   ]
  },
  {
   "cell_type": "code",
   "execution_count": 13,
   "id": "65e63f32",
   "metadata": {
    "execution": {
     "iopub.execute_input": "2023-06-01T03:35:10.073427Z",
     "iopub.status.busy": "2023-06-01T03:35:10.072086Z",
     "iopub.status.idle": "2023-06-01T03:35:10.082860Z",
     "shell.execute_reply": "2023-06-01T03:35:10.081644Z"
    },
    "papermill": {
     "duration": 0.040771,
     "end_time": "2023-06-01T03:35:10.085424",
     "exception": false,
     "start_time": "2023-06-01T03:35:10.044653",
     "status": "completed"
    },
    "tags": []
   },
   "outputs": [
    {
     "data": {
      "text/plain": [
       "medium    3153\n",
       "Large      454\n",
       "Small      148\n",
       "Name: company_size, dtype: int64"
      ]
     },
     "execution_count": 13,
     "metadata": {},
     "output_type": "execute_result"
    }
   ],
   "source": [
    "df['company_size'].value_counts()"
   ]
  },
  {
   "attachments": {},
   "cell_type": "markdown",
   "id": "765c4f6a",
   "metadata": {
    "papermill": {
     "duration": 0.038558,
     "end_time": "2023-06-01T03:35:18.605498",
     "exception": false,
     "start_time": "2023-06-01T03:35:18.566940",
     "status": "completed"
    },
    "tags": []
   },
   "source": [
    "# Encoding the String Dataset"
   ]
  },
  {
   "cell_type": "code",
   "execution_count": 14,
   "id": "0844ba9e",
   "metadata": {
    "execution": {
     "iopub.execute_input": "2023-06-01T03:35:18.685320Z",
     "iopub.status.busy": "2023-06-01T03:35:18.684718Z",
     "iopub.status.idle": "2023-06-01T03:35:18.716856Z",
     "shell.execute_reply": "2023-06-01T03:35:18.715732Z"
    },
    "papermill": {
     "duration": 0.075514,
     "end_time": "2023-06-01T03:35:18.719572",
     "exception": false,
     "start_time": "2023-06-01T03:35:18.644058",
     "status": "completed"
    },
    "tags": []
   },
   "outputs": [
    {
     "data": {
      "text/html": [
       "<div>\n",
       "<style scoped>\n",
       "    .dataframe tbody tr th:only-of-type {\n",
       "        vertical-align: middle;\n",
       "    }\n",
       "\n",
       "    .dataframe tbody tr th {\n",
       "        vertical-align: top;\n",
       "    }\n",
       "\n",
       "    .dataframe thead th {\n",
       "        text-align: right;\n",
       "    }\n",
       "</style>\n",
       "<table border=\"1\" class=\"dataframe\">\n",
       "  <thead>\n",
       "    <tr style=\"text-align: right;\">\n",
       "      <th></th>\n",
       "      <th>experience_level</th>\n",
       "      <th>employment_type</th>\n",
       "      <th>job_title</th>\n",
       "      <th>salary_currency</th>\n",
       "      <th>employee_residence</th>\n",
       "      <th>company_location</th>\n",
       "      <th>company_size</th>\n",
       "    </tr>\n",
       "  </thead>\n",
       "  <tbody>\n",
       "    <tr>\n",
       "      <th>count</th>\n",
       "      <td>3755</td>\n",
       "      <td>3755</td>\n",
       "      <td>3755</td>\n",
       "      <td>3755</td>\n",
       "      <td>3755</td>\n",
       "      <td>3755</td>\n",
       "      <td>3755</td>\n",
       "    </tr>\n",
       "    <tr>\n",
       "      <th>unique</th>\n",
       "      <td>4</td>\n",
       "      <td>4</td>\n",
       "      <td>93</td>\n",
       "      <td>20</td>\n",
       "      <td>78</td>\n",
       "      <td>72</td>\n",
       "      <td>3</td>\n",
       "    </tr>\n",
       "    <tr>\n",
       "      <th>top</th>\n",
       "      <td>Senior-level / Expert</td>\n",
       "      <td>Full-time</td>\n",
       "      <td>Data Engineer</td>\n",
       "      <td>USD</td>\n",
       "      <td>US</td>\n",
       "      <td>US</td>\n",
       "      <td>medium</td>\n",
       "    </tr>\n",
       "    <tr>\n",
       "      <th>freq</th>\n",
       "      <td>2516</td>\n",
       "      <td>3718</td>\n",
       "      <td>1040</td>\n",
       "      <td>3224</td>\n",
       "      <td>3004</td>\n",
       "      <td>3040</td>\n",
       "      <td>3153</td>\n",
       "    </tr>\n",
       "  </tbody>\n",
       "</table>\n",
       "</div>"
      ],
      "text/plain": [
       "             experience_level employment_type      job_title salary_currency  \\\n",
       "count                    3755            3755           3755            3755   \n",
       "unique                      4               4             93              20   \n",
       "top     Senior-level / Expert       Full-time  Data Engineer             USD   \n",
       "freq                     2516            3718           1040            3224   \n",
       "\n",
       "       employee_residence company_location company_size  \n",
       "count                3755             3755         3755  \n",
       "unique                 78               72            3  \n",
       "top                    US               US       medium  \n",
       "freq                 3004             3040         3153  "
      ]
     },
     "execution_count": 14,
     "metadata": {},
     "output_type": "execute_result"
    }
   ],
   "source": [
    "df.describe(include=object)"
   ]
  },
  {
   "cell_type": "code",
   "execution_count": 15,
   "id": "1692bc7a",
   "metadata": {
    "execution": {
     "iopub.execute_input": "2023-06-01T03:35:18.799783Z",
     "iopub.status.busy": "2023-06-01T03:35:18.799344Z",
     "iopub.status.idle": "2023-06-01T03:35:18.957036Z",
     "shell.execute_reply": "2023-06-01T03:35:18.955902Z"
    },
    "papermill": {
     "duration": 0.201005,
     "end_time": "2023-06-01T03:35:18.959777",
     "exception": false,
     "start_time": "2023-06-01T03:35:18.758772",
     "status": "completed"
    },
    "tags": []
   },
   "outputs": [],
   "source": [
    "from sklearn.preprocessing import LabelEncoder\n",
    "le=LabelEncoder()"
   ]
  },
  {
   "cell_type": "code",
   "execution_count": 16,
   "id": "a25d2b6c",
   "metadata": {
    "execution": {
     "iopub.execute_input": "2023-06-01T03:35:19.039991Z",
     "iopub.status.busy": "2023-06-01T03:35:19.039571Z",
     "iopub.status.idle": "2023-06-01T03:35:19.060324Z",
     "shell.execute_reply": "2023-06-01T03:35:19.059328Z"
    },
    "papermill": {
     "duration": 0.064033,
     "end_time": "2023-06-01T03:35:19.062959",
     "exception": false,
     "start_time": "2023-06-01T03:35:18.998926",
     "status": "completed"
    },
    "tags": []
   },
   "outputs": [],
   "source": [
    "cols = ['experience_level', 'employment_type', 'job_title','salary_currency','employee_residence','company_location','company_size']\n",
    "df[cols]=df[cols].apply(LabelEncoder().fit_transform)"
   ]
  },
  {
   "cell_type": "code",
   "execution_count": 17,
   "id": "b7cc9236",
   "metadata": {
    "execution": {
     "iopub.execute_input": "2023-06-01T03:35:19.144426Z",
     "iopub.status.busy": "2023-06-01T03:35:19.143995Z",
     "iopub.status.idle": "2023-06-01T03:35:19.160125Z",
     "shell.execute_reply": "2023-06-01T03:35:19.158509Z"
    },
    "papermill": {
     "duration": 0.059218,
     "end_time": "2023-06-01T03:35:19.162445",
     "exception": false,
     "start_time": "2023-06-01T03:35:19.103227",
     "status": "completed"
    },
    "tags": []
   },
   "outputs": [
    {
     "name": "stdout",
     "output_type": "stream",
     "text": [
      "<class 'pandas.core.frame.DataFrame'>\n",
      "RangeIndex: 3755 entries, 0 to 3754\n",
      "Data columns (total 11 columns):\n",
      " #   Column              Non-Null Count  Dtype\n",
      "---  ------              --------------  -----\n",
      " 0   work_year           3755 non-null   int64\n",
      " 1   experience_level    3755 non-null   int32\n",
      " 2   employment_type     3755 non-null   int32\n",
      " 3   job_title           3755 non-null   int32\n",
      " 4   salary              3755 non-null   int64\n",
      " 5   salary_currency     3755 non-null   int32\n",
      " 6   salary_in_usd       3755 non-null   int64\n",
      " 7   employee_residence  3755 non-null   int32\n",
      " 8   remote_ratio        3755 non-null   int64\n",
      " 9   company_location    3755 non-null   int32\n",
      " 10  company_size        3755 non-null   int32\n",
      "dtypes: int32(7), int64(4)\n",
      "memory usage: 220.1 KB\n"
     ]
    }
   ],
   "source": [
    "df.info()"
   ]
  },
  {
   "attachments": {},
   "cell_type": "markdown",
   "id": "70070aca",
   "metadata": {
    "papermill": {
     "duration": 0.042049,
     "end_time": "2023-06-01T03:35:20.405307",
     "exception": false,
     "start_time": "2023-06-01T03:35:20.363258",
     "status": "completed"
    },
    "tags": []
   },
   "source": [
    "# Train Test Split"
   ]
  },
  {
   "cell_type": "code",
   "execution_count": 18,
   "id": "04f61f92",
   "metadata": {
    "execution": {
     "iopub.execute_input": "2023-06-01T03:35:20.495045Z",
     "iopub.status.busy": "2023-06-01T03:35:20.494479Z",
     "iopub.status.idle": "2023-06-01T03:35:20.606301Z",
     "shell.execute_reply": "2023-06-01T03:35:20.605090Z"
    },
    "papermill": {
     "duration": 0.159359,
     "end_time": "2023-06-01T03:35:20.609212",
     "exception": false,
     "start_time": "2023-06-01T03:35:20.449853",
     "status": "completed"
    },
    "tags": []
   },
   "outputs": [],
   "source": [
    "from sklearn.model_selection import train_test_split"
   ]
  },
  {
   "cell_type": "code",
   "execution_count": 19,
   "id": "1c1ef0c1",
   "metadata": {
    "execution": {
     "iopub.execute_input": "2023-06-01T03:35:20.699674Z",
     "iopub.status.busy": "2023-06-01T03:35:20.698468Z",
     "iopub.status.idle": "2023-06-01T03:35:20.706267Z",
     "shell.execute_reply": "2023-06-01T03:35:20.705184Z"
    },
    "papermill": {
     "duration": 0.056521,
     "end_time": "2023-06-01T03:35:20.708595",
     "exception": false,
     "start_time": "2023-06-01T03:35:20.652074",
     "status": "completed"
    },
    "tags": []
   },
   "outputs": [],
   "source": [
    "x=df.drop('salary_in_usd',axis=1).values\n",
    "y=df['salary_in_usd'].values"
   ]
  },
  {
   "cell_type": "code",
   "execution_count": 20,
   "id": "4ff1f04d",
   "metadata": {
    "execution": {
     "iopub.execute_input": "2023-06-01T03:35:20.794530Z",
     "iopub.status.busy": "2023-06-01T03:35:20.794125Z",
     "iopub.status.idle": "2023-06-01T03:35:20.800507Z",
     "shell.execute_reply": "2023-06-01T03:35:20.799664Z"
    },
    "papermill": {
     "duration": 0.0523,
     "end_time": "2023-06-01T03:35:20.802799",
     "exception": false,
     "start_time": "2023-06-01T03:35:20.750499",
     "status": "completed"
    },
    "tags": []
   },
   "outputs": [],
   "source": [
    "x_train , x_test , y_train , y_test = train_test_split(x,y, test_size=  0.25, random_state= 42)"
   ]
  },
  {
   "attachments": {},
   "cell_type": "markdown",
   "id": "141f9a96",
   "metadata": {
    "papermill": {
     "duration": 0.041852,
     "end_time": "2023-06-01T03:35:20.886395",
     "exception": false,
     "start_time": "2023-06-01T03:35:20.844543",
     "status": "completed"
    },
    "tags": []
   },
   "source": [
    "# Modeling"
   ]
  },
  {
   "attachments": {},
   "cell_type": "markdown",
   "id": "22dbe477",
   "metadata": {
    "papermill": {
     "duration": 0.042347,
     "end_time": "2023-06-01T03:35:20.970543",
     "exception": false,
     "start_time": "2023-06-01T03:35:20.928196",
     "status": "completed"
    },
    "tags": []
   },
   "source": [
    "# Random Forest Regressor"
   ]
  },
  {
   "cell_type": "code",
   "execution_count": 21,
   "id": "a51f1b97",
   "metadata": {
    "execution": {
     "iopub.execute_input": "2023-06-01T03:35:21.060207Z",
     "iopub.status.busy": "2023-06-01T03:35:21.059614Z",
     "iopub.status.idle": "2023-06-01T03:35:21.639321Z",
     "shell.execute_reply": "2023-06-01T03:35:21.638337Z"
    },
    "papermill": {
     "duration": 0.628132,
     "end_time": "2023-06-01T03:35:21.642055",
     "exception": false,
     "start_time": "2023-06-01T03:35:21.013923",
     "status": "completed"
    },
    "tags": []
   },
   "outputs": [],
   "source": [
    "from sklearn.ensemble import RandomForestRegressor"
   ]
  },
  {
   "cell_type": "code",
   "execution_count": 22,
   "id": "5598e34d",
   "metadata": {
    "execution": {
     "iopub.execute_input": "2023-06-01T03:35:21.729236Z",
     "iopub.status.busy": "2023-06-01T03:35:21.728467Z",
     "iopub.status.idle": "2023-06-01T03:35:21.733291Z",
     "shell.execute_reply": "2023-06-01T03:35:21.732434Z"
    },
    "papermill": {
     "duration": 0.051935,
     "end_time": "2023-06-01T03:35:21.735363",
     "exception": false,
     "start_time": "2023-06-01T03:35:21.683428",
     "status": "completed"
    },
    "tags": []
   },
   "outputs": [],
   "source": [
    "rf=RandomForestRegressor(max_depth=7 , max_features=3,n_estimators= 100)"
   ]
  },
  {
   "cell_type": "code",
   "execution_count": 23,
   "id": "d65f6cbe",
   "metadata": {
    "execution": {
     "iopub.execute_input": "2023-06-01T03:35:21.821384Z",
     "iopub.status.busy": "2023-06-01T03:35:21.820941Z",
     "iopub.status.idle": "2023-06-01T03:35:22.123429Z",
     "shell.execute_reply": "2023-06-01T03:35:22.122299Z"
    },
    "papermill": {
     "duration": 0.349319,
     "end_time": "2023-06-01T03:35:22.126241",
     "exception": false,
     "start_time": "2023-06-01T03:35:21.776922",
     "status": "completed"
    },
    "tags": []
   },
   "outputs": [
    {
     "data": {
      "text/html": [
       "<style>#sk-container-id-1 {color: black;background-color: white;}#sk-container-id-1 pre{padding: 0;}#sk-container-id-1 div.sk-toggleable {background-color: white;}#sk-container-id-1 label.sk-toggleable__label {cursor: pointer;display: block;width: 100%;margin-bottom: 0;padding: 0.3em;box-sizing: border-box;text-align: center;}#sk-container-id-1 label.sk-toggleable__label-arrow:before {content: \"▸\";float: left;margin-right: 0.25em;color: #696969;}#sk-container-id-1 label.sk-toggleable__label-arrow:hover:before {color: black;}#sk-container-id-1 div.sk-estimator:hover label.sk-toggleable__label-arrow:before {color: black;}#sk-container-id-1 div.sk-toggleable__content {max-height: 0;max-width: 0;overflow: hidden;text-align: left;background-color: #f0f8ff;}#sk-container-id-1 div.sk-toggleable__content pre {margin: 0.2em;color: black;border-radius: 0.25em;background-color: #f0f8ff;}#sk-container-id-1 input.sk-toggleable__control:checked~div.sk-toggleable__content {max-height: 200px;max-width: 100%;overflow: auto;}#sk-container-id-1 input.sk-toggleable__control:checked~label.sk-toggleable__label-arrow:before {content: \"▾\";}#sk-container-id-1 div.sk-estimator input.sk-toggleable__control:checked~label.sk-toggleable__label {background-color: #d4ebff;}#sk-container-id-1 div.sk-label input.sk-toggleable__control:checked~label.sk-toggleable__label {background-color: #d4ebff;}#sk-container-id-1 input.sk-hidden--visually {border: 0;clip: rect(1px 1px 1px 1px);clip: rect(1px, 1px, 1px, 1px);height: 1px;margin: -1px;overflow: hidden;padding: 0;position: absolute;width: 1px;}#sk-container-id-1 div.sk-estimator {font-family: monospace;background-color: #f0f8ff;border: 1px dotted black;border-radius: 0.25em;box-sizing: border-box;margin-bottom: 0.5em;}#sk-container-id-1 div.sk-estimator:hover {background-color: #d4ebff;}#sk-container-id-1 div.sk-parallel-item::after {content: \"\";width: 100%;border-bottom: 1px solid gray;flex-grow: 1;}#sk-container-id-1 div.sk-label:hover label.sk-toggleable__label {background-color: #d4ebff;}#sk-container-id-1 div.sk-serial::before {content: \"\";position: absolute;border-left: 1px solid gray;box-sizing: border-box;top: 0;bottom: 0;left: 50%;z-index: 0;}#sk-container-id-1 div.sk-serial {display: flex;flex-direction: column;align-items: center;background-color: white;padding-right: 0.2em;padding-left: 0.2em;position: relative;}#sk-container-id-1 div.sk-item {position: relative;z-index: 1;}#sk-container-id-1 div.sk-parallel {display: flex;align-items: stretch;justify-content: center;background-color: white;position: relative;}#sk-container-id-1 div.sk-item::before, #sk-container-id-1 div.sk-parallel-item::before {content: \"\";position: absolute;border-left: 1px solid gray;box-sizing: border-box;top: 0;bottom: 0;left: 50%;z-index: -1;}#sk-container-id-1 div.sk-parallel-item {display: flex;flex-direction: column;z-index: 1;position: relative;background-color: white;}#sk-container-id-1 div.sk-parallel-item:first-child::after {align-self: flex-end;width: 50%;}#sk-container-id-1 div.sk-parallel-item:last-child::after {align-self: flex-start;width: 50%;}#sk-container-id-1 div.sk-parallel-item:only-child::after {width: 0;}#sk-container-id-1 div.sk-dashed-wrapped {border: 1px dashed gray;margin: 0 0.4em 0.5em 0.4em;box-sizing: border-box;padding-bottom: 0.4em;background-color: white;}#sk-container-id-1 div.sk-label label {font-family: monospace;font-weight: bold;display: inline-block;line-height: 1.2em;}#sk-container-id-1 div.sk-label-container {text-align: center;}#sk-container-id-1 div.sk-container {/* jupyter's `normalize.less` sets `[hidden] { display: none; }` but bootstrap.min.css set `[hidden] { display: none !important; }` so we also need the `!important` here to be able to override the default hidden behavior on the sphinx rendered scikit-learn.org. See: https://github.com/scikit-learn/scikit-learn/issues/21755 */display: inline-block !important;position: relative;}#sk-container-id-1 div.sk-text-repr-fallback {display: none;}</style><div id=\"sk-container-id-1\" class=\"sk-top-container\"><div class=\"sk-text-repr-fallback\"><pre>RandomForestRegressor(max_depth=7, max_features=3)</pre><b>In a Jupyter environment, please rerun this cell to show the HTML representation or trust the notebook. <br />On GitHub, the HTML representation is unable to render, please try loading this page with nbviewer.org.</b></div><div class=\"sk-container\" hidden><div class=\"sk-item\"><div class=\"sk-estimator sk-toggleable\"><input class=\"sk-toggleable__control sk-hidden--visually\" id=\"sk-estimator-id-1\" type=\"checkbox\" checked><label for=\"sk-estimator-id-1\" class=\"sk-toggleable__label sk-toggleable__label-arrow\">RandomForestRegressor</label><div class=\"sk-toggleable__content\"><pre>RandomForestRegressor(max_depth=7, max_features=3)</pre></div></div></div></div></div>"
      ],
      "text/plain": [
       "RandomForestRegressor(max_depth=7, max_features=3)"
      ]
     },
     "execution_count": 23,
     "metadata": {},
     "output_type": "execute_result"
    }
   ],
   "source": [
    "rf.fit(x_train, y_train)"
   ]
  },
  {
   "cell_type": "code",
   "execution_count": 24,
   "id": "4d7538fb",
   "metadata": {
    "execution": {
     "iopub.execute_input": "2023-06-01T03:35:22.215877Z",
     "iopub.status.busy": "2023-06-01T03:35:22.215452Z",
     "iopub.status.idle": "2023-06-01T03:35:22.254011Z",
     "shell.execute_reply": "2023-06-01T03:35:22.252918Z"
    },
    "papermill": {
     "duration": 0.086385,
     "end_time": "2023-06-01T03:35:22.256525",
     "exception": false,
     "start_time": "2023-06-01T03:35:22.170140",
     "status": "completed"
    },
    "tags": []
   },
   "outputs": [
    {
     "data": {
      "text/plain": [
       "0.963588795765453"
      ]
     },
     "execution_count": 24,
     "metadata": {},
     "output_type": "execute_result"
    }
   ],
   "source": [
    "rf.score(x_train, y_train)"
   ]
  },
  {
   "cell_type": "code",
   "execution_count": 25,
   "id": "41e352b0",
   "metadata": {
    "execution": {
     "iopub.execute_input": "2023-06-01T03:35:22.345652Z",
     "iopub.status.busy": "2023-06-01T03:35:22.345285Z",
     "iopub.status.idle": "2023-06-01T03:35:22.370434Z",
     "shell.execute_reply": "2023-06-01T03:35:22.369439Z"
    },
    "papermill": {
     "duration": 0.072418,
     "end_time": "2023-06-01T03:35:22.372652",
     "exception": false,
     "start_time": "2023-06-01T03:35:22.300234",
     "status": "completed"
    },
    "tags": []
   },
   "outputs": [
    {
     "data": {
      "text/plain": [
       "0.8897379680336348"
      ]
     },
     "execution_count": 25,
     "metadata": {},
     "output_type": "execute_result"
    }
   ],
   "source": [
    "rf.score(x_test , y_test)"
   ]
  },
  {
   "attachments": {},
   "cell_type": "markdown",
   "id": "f8056e88",
   "metadata": {
    "papermill": {
     "duration": 0.04349,
     "end_time": "2023-06-01T03:35:22.460023",
     "exception": false,
     "start_time": "2023-06-01T03:35:22.416533",
     "status": "completed"
    },
    "tags": []
   },
   "source": [
    "# Model Evaluation"
   ]
  },
  {
   "cell_type": "code",
   "execution_count": 26,
   "id": "f585ea83",
   "metadata": {
    "execution": {
     "iopub.execute_input": "2023-06-01T03:35:22.550345Z",
     "iopub.status.busy": "2023-06-01T03:35:22.549597Z",
     "iopub.status.idle": "2023-06-01T03:35:22.572120Z",
     "shell.execute_reply": "2023-06-01T03:35:22.571018Z"
    },
    "papermill": {
     "duration": 0.071054,
     "end_time": "2023-06-01T03:35:22.574643",
     "exception": false,
     "start_time": "2023-06-01T03:35:22.503589",
     "status": "completed"
    },
    "tags": []
   },
   "outputs": [],
   "source": [
    "y_pred = rf.predict(x_test)"
   ]
  },
  {
   "cell_type": "code",
   "execution_count": 27,
   "id": "4b92576d",
   "metadata": {
    "execution": {
     "iopub.execute_input": "2023-06-01T03:35:22.664523Z",
     "iopub.status.busy": "2023-06-01T03:35:22.664105Z",
     "iopub.status.idle": "2023-06-01T03:35:22.676134Z",
     "shell.execute_reply": "2023-06-01T03:35:22.675324Z"
    },
    "papermill": {
     "duration": 0.059999,
     "end_time": "2023-06-01T03:35:22.678226",
     "exception": false,
     "start_time": "2023-06-01T03:35:22.618227",
     "status": "completed"
    },
    "tags": []
   },
   "outputs": [
    {
     "data": {
      "text/html": [
       "<div>\n",
       "<style scoped>\n",
       "    .dataframe tbody tr th:only-of-type {\n",
       "        vertical-align: middle;\n",
       "    }\n",
       "\n",
       "    .dataframe tbody tr th {\n",
       "        vertical-align: top;\n",
       "    }\n",
       "\n",
       "    .dataframe thead th {\n",
       "        text-align: right;\n",
       "    }\n",
       "</style>\n",
       "<table border=\"1\" class=\"dataframe\">\n",
       "  <thead>\n",
       "    <tr style=\"text-align: right;\">\n",
       "      <th></th>\n",
       "      <th>Y_test</th>\n",
       "      <th>Y_pred</th>\n",
       "    </tr>\n",
       "  </thead>\n",
       "  <tbody>\n",
       "    <tr>\n",
       "      <th>0</th>\n",
       "      <td>168000</td>\n",
       "      <td>174782.619283</td>\n",
       "    </tr>\n",
       "    <tr>\n",
       "      <th>1</th>\n",
       "      <td>179975</td>\n",
       "      <td>177047.163830</td>\n",
       "    </tr>\n",
       "    <tr>\n",
       "      <th>2</th>\n",
       "      <td>144000</td>\n",
       "      <td>148251.002533</td>\n",
       "    </tr>\n",
       "    <tr>\n",
       "      <th>3</th>\n",
       "      <td>222200</td>\n",
       "      <td>223786.572965</td>\n",
       "    </tr>\n",
       "    <tr>\n",
       "      <th>4</th>\n",
       "      <td>230000</td>\n",
       "      <td>148895.632087</td>\n",
       "    </tr>\n",
       "    <tr>\n",
       "      <th>5</th>\n",
       "      <td>40000</td>\n",
       "      <td>40393.031951</td>\n",
       "    </tr>\n",
       "    <tr>\n",
       "      <th>6</th>\n",
       "      <td>105000</td>\n",
       "      <td>110896.481997</td>\n",
       "    </tr>\n",
       "    <tr>\n",
       "      <th>7</th>\n",
       "      <td>100000</td>\n",
       "      <td>92764.531558</td>\n",
       "    </tr>\n",
       "    <tr>\n",
       "      <th>8</th>\n",
       "      <td>29751</td>\n",
       "      <td>24746.976924</td>\n",
       "    </tr>\n",
       "    <tr>\n",
       "      <th>9</th>\n",
       "      <td>153090</td>\n",
       "      <td>151502.849884</td>\n",
       "    </tr>\n",
       "    <tr>\n",
       "      <th>10</th>\n",
       "      <td>52533</td>\n",
       "      <td>59671.956637</td>\n",
       "    </tr>\n",
       "    <tr>\n",
       "      <th>11</th>\n",
       "      <td>115000</td>\n",
       "      <td>118368.605981</td>\n",
       "    </tr>\n",
       "    <tr>\n",
       "      <th>12</th>\n",
       "      <td>128000</td>\n",
       "      <td>129584.889258</td>\n",
       "    </tr>\n",
       "    <tr>\n",
       "      <th>13</th>\n",
       "      <td>30523</td>\n",
       "      <td>26573.427943</td>\n",
       "    </tr>\n",
       "    <tr>\n",
       "      <th>14</th>\n",
       "      <td>128500</td>\n",
       "      <td>125619.322381</td>\n",
       "    </tr>\n",
       "    <tr>\n",
       "      <th>15</th>\n",
       "      <td>92000</td>\n",
       "      <td>111042.896042</td>\n",
       "    </tr>\n",
       "    <tr>\n",
       "      <th>16</th>\n",
       "      <td>160000</td>\n",
       "      <td>151715.616632</td>\n",
       "    </tr>\n",
       "    <tr>\n",
       "      <th>17</th>\n",
       "      <td>168000</td>\n",
       "      <td>171232.519226</td>\n",
       "    </tr>\n",
       "    <tr>\n",
       "      <th>18</th>\n",
       "      <td>210000</td>\n",
       "      <td>199937.220295</td>\n",
       "    </tr>\n",
       "    <tr>\n",
       "      <th>19</th>\n",
       "      <td>153400</td>\n",
       "      <td>150556.680144</td>\n",
       "    </tr>\n",
       "  </tbody>\n",
       "</table>\n",
       "</div>"
      ],
      "text/plain": [
       "    Y_test         Y_pred\n",
       "0   168000  174782.619283\n",
       "1   179975  177047.163830\n",
       "2   144000  148251.002533\n",
       "3   222200  223786.572965\n",
       "4   230000  148895.632087\n",
       "5    40000   40393.031951\n",
       "6   105000  110896.481997\n",
       "7   100000   92764.531558\n",
       "8    29751   24746.976924\n",
       "9   153090  151502.849884\n",
       "10   52533   59671.956637\n",
       "11  115000  118368.605981\n",
       "12  128000  129584.889258\n",
       "13   30523   26573.427943\n",
       "14  128500  125619.322381\n",
       "15   92000  111042.896042\n",
       "16  160000  151715.616632\n",
       "17  168000  171232.519226\n",
       "18  210000  199937.220295\n",
       "19  153400  150556.680144"
      ]
     },
     "execution_count": 27,
     "metadata": {},
     "output_type": "execute_result"
    }
   ],
   "source": [
    "df3 = pd.DataFrame({\"Y_test\": y_test , \"Y_pred\" : y_pred})\n",
    "df3.head(20)"
   ]
  },
  {
   "cell_type": "code",
   "execution_count": 28,
   "id": "b27369cc",
   "metadata": {
    "execution": {
     "iopub.execute_input": "2023-06-01T03:35:22.769412Z",
     "iopub.status.busy": "2023-06-01T03:35:22.768725Z",
     "iopub.status.idle": "2023-06-01T03:35:23.232787Z",
     "shell.execute_reply": "2023-06-01T03:35:23.231533Z"
    },
    "papermill": {
     "duration": 0.512016,
     "end_time": "2023-06-01T03:35:23.235314",
     "exception": false,
     "start_time": "2023-06-01T03:35:22.723298",
     "status": "completed"
    },
    "tags": []
   },
   "outputs": [
    {
     "data": {
      "text/plain": [
       "<matplotlib.legend.Legend at 0x1f1062fc610>"
      ]
     },
     "execution_count": 28,
     "metadata": {},
     "output_type": "execute_result"
    },
    {
     "data": {
      "image/png": "[encoded data removed]",
      "text/plain": [
       "<Figure size 2000x600 with 1 Axes>"
      ]
     },
     "metadata": {},
     "output_type": "display_data"
    }
   ],
   "source": [
    "plt.figure(figsize= (20,6))\n",
    "\n",
    "plt.plot(df3[:500])\n",
    "plt.legend([\"Actual\" , \"Predicted\"])"
   ]
  },
  {
   "cell_type": "code",
   "execution_count": 29,
   "id": "429bf748",
   "metadata": {
    "execution": {
     "iopub.execute_input": "2023-06-01T03:35:23.338958Z",
     "iopub.status.busy": "2023-06-01T03:35:23.338537Z",
     "iopub.status.idle": "2023-06-01T03:35:23.343413Z",
     "shell.execute_reply": "2023-06-01T03:35:23.342263Z"
    },
    "papermill": {
     "duration": 0.058882,
     "end_time": "2023-06-01T03:35:23.345656",
     "exception": false,
     "start_time": "2023-06-01T03:35:23.286774",
     "status": "completed"
    },
    "tags": []
   },
   "outputs": [],
   "source": [
    "from sklearn.metrics import r2_score"
   ]
  },
  {
   "cell_type": "code",
   "execution_count": 30,
   "id": "cd3a2d85",
   "metadata": {
    "execution": {
     "iopub.execute_input": "2023-06-01T03:35:23.445263Z",
     "iopub.status.busy": "2023-06-01T03:35:23.444158Z",
     "iopub.status.idle": "2023-06-01T03:35:23.452279Z",
     "shell.execute_reply": "2023-06-01T03:35:23.451238Z"
    },
    "papermill": {
     "duration": 0.060322,
     "end_time": "2023-06-01T03:35:23.454459",
     "exception": false,
     "start_time": "2023-06-01T03:35:23.394137",
     "status": "completed"
    },
    "tags": []
   },
   "outputs": [
    {
     "data": {
      "text/plain": [
       "0.8897379680336348"
      ]
     },
     "execution_count": 30,
     "metadata": {},
     "output_type": "execute_result"
    }
   ],
   "source": [
    "rf_score=r2_score(y_test , y_pred)\n",
    "rf_score"
   ]
  },
  {
   "attachments": {},
   "cell_type": "markdown",
   "id": "301d9f6e",
   "metadata": {},
   "source": [
    "# Pickling"
   ]
  },
  {
   "cell_type": "code",
   "execution_count": 31,
   "id": "13ebbf1f",
   "metadata": {},
   "outputs": [],
   "source": [
    "import pickle"
   ]
  },
  {
   "cell_type": "code",
   "execution_count": 32,
   "id": "862b07a8",
   "metadata": {},
   "outputs": [],
   "source": [
    "pickle.dump(rf,open(\"regmodel.pkl\",\"wb\"))"
   ]
  },
  {
   "cell_type": "code",
   "execution_count": 33,
   "id": "289742c3",
   "metadata": {},
   "outputs": [],
   "source": [
    "pickle.dump(le,open(\"encoder.pkl\",\"wb\"))"
   ]
  },
  {
   "cell_type": "code",
   "execution_count": null,
   "id": "19655637",
   "metadata": {},
   "outputs": [],
   "source": []
  }
 ],
 "metadata": {
  "kernelspec": {
   "display_name": "Python 3",
   "language": "python",
   "name": "python3"
  },
  "language_info": {
   "codemirror_mode": {
    "name": "ipython",
    "version": 3
   },
   "file_extension": ".py",
   "mimetype": "text/x-python",
   "name": "python",
   "nbconvert_exporter": "python",
   "pygments_lexer": "ipython3",
   "version": "3.10.6"
  },
  "papermill": {
   "default_parameters": {},
   "duration": 31.123136,
   "end_time": "2023-06-01T03:35:25.041855",
   "environment_variables": {},
   "exception": null,
   "input_path": "__notebook__.ipynb",
   "output_path": "__notebook__.ipynb",
   "parameters": {},
   "start_time": "2023-06-01T03:34:53.918719",
   "version": "2.4.0"
  }
 },
 "nbformat": 4,
 "nbformat_minor": 5
}
